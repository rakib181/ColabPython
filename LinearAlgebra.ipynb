{
  "nbformat": 4,
  "nbformat_minor": 0,
  "metadata": {
    "colab": {
      "name": "LinearAlgebra.ipynb",
      "provenance": [],
      "authorship_tag": "ABX9TyO2FCcMKCtDphgKPizi7gUt",
      "include_colab_link": true
    },
    "kernelspec": {
      "name": "python3",
      "display_name": "Python 3"
    },
    "language_info": {
      "name": "python"
    }
  },
  "cells": [
    {
      "cell_type": "markdown",
      "metadata": {
        "id": "view-in-github",
        "colab_type": "text"
      },
      "source": [
        "<a href=\"https://colab.research.google.com/github/rakib181/heisenberg/blob/main/LinearAlgebra.ipynb\" target=\"_parent\"><img src=\"https://colab.research.google.com/assets/colab-badge.svg\" alt=\"Open In Colab\"/></a>"
      ]
    },
    {
      "cell_type": "code",
      "metadata": {
        "id": "OoM1td4kHnz_"
      },
      "source": [
        "import numpy as np"
      ],
      "execution_count": 1,
      "outputs": []
    },
    {
      "cell_type": "code",
      "metadata": {
        "colab": {
          "base_uri": "https://localhost:8080/"
        },
        "id": "0ufIlgggJiTh",
        "outputId": "478b1198-1a53-4191-976f-56cb3f403604"
      },
      "source": [
        "A=np.array([[3,4,6],[8,9,6],[5,8,6]])\n",
        "A"
      ],
      "execution_count": 5,
      "outputs": [
        {
          "output_type": "execute_result",
          "data": {
            "text/plain": [
              "array([[3, 4, 6],\n",
              "       [8, 9, 6],\n",
              "       [5, 8, 6]])"
            ]
          },
          "metadata": {},
          "execution_count": 5
        }
      ]
    },
    {
      "cell_type": "code",
      "metadata": {
        "colab": {
          "base_uri": "https://localhost:8080/"
        },
        "id": "Z4BPTuS5KCkv",
        "outputId": "05f83c0a-1bed-449d-f0c7-0ca74caf07f6"
      },
      "source": [
        "print(\"\\n Rank of Matrix : \",np.linalg.matrix_rank(A))"
      ],
      "execution_count": 6,
      "outputs": [
        {
          "output_type": "stream",
          "name": "stdout",
          "text": [
            "\n",
            " Rank of Matrix :  3\n"
          ]
        }
      ]
    },
    {
      "cell_type": "code",
      "metadata": {
        "colab": {
          "base_uri": "https://localhost:8080/"
        },
        "id": "u61POLRmKOan",
        "outputId": "b0fa7274-b6cb-4aff-e027-3462ee085e38"
      },
      "source": [
        "print(\"\\n Trace of Matrix : \",np.trace(A))"
      ],
      "execution_count": 7,
      "outputs": [
        {
          "output_type": "stream",
          "name": "stdout",
          "text": [
            "\n",
            " Trace of Matrix :  18\n"
          ]
        }
      ]
    },
    {
      "cell_type": "code",
      "metadata": {
        "colab": {
          "base_uri": "https://localhost:8080/"
        },
        "id": "vOaV0gztKcoX",
        "outputId": "164d627c-2f90-4373-a825-3730601fd1f0"
      },
      "source": [
        "print(\"\\n Determinant of A : \",np.linalg.det(A))"
      ],
      "execution_count": 8,
      "outputs": [
        {
          "output_type": "stream",
          "name": "stdout",
          "text": [
            "\n",
            " Determinant of A :  59.999999999999986\n"
          ]
        }
      ]
    },
    {
      "cell_type": "code",
      "metadata": {
        "colab": {
          "base_uri": "https://localhost:8080/"
        },
        "id": "WAJ-ohQ3KpTK",
        "outputId": "f57bdca6-dd9b-4124-8509-07efbc85a18d"
      },
      "source": [
        "print(\"\\n Inverse of A : \",np.linalg.inv(A))"
      ],
      "execution_count": 9,
      "outputs": [
        {
          "output_type": "stream",
          "name": "stdout",
          "text": [
            "\n",
            " Inverse of A :  [[ 0.1         0.4        -0.5       ]\n",
            " [-0.3        -0.2         0.5       ]\n",
            " [ 0.31666667 -0.06666667 -0.08333333]]\n"
          ]
        }
      ]
    },
    {
      "cell_type": "code",
      "metadata": {
        "colab": {
          "base_uri": "https://localhost:8080/"
        },
        "id": "RvmyUcaCK7f3",
        "outputId": "798a4baa-39b1-416c-b33c-5e0a7f45edae"
      },
      "source": [
        "print(\"\\n Matrix Power Raised By 3 : \",np.linalg.matrix_power(A,3))"
      ],
      "execution_count": 11,
      "outputs": [
        {
          "output_type": "stream",
          "name": "stdout",
          "text": [
            "\n",
            " Matrix Power Raised By 3 :  [[1371 1772 1470]\n",
            " [2356 3057 2550]\n",
            " [2017 2608 2178]]\n"
          ]
        }
      ]
    },
    {
      "cell_type": "code",
      "metadata": {
        "id": "7W101JtnLass"
      },
      "source": [
        "from numpy import linalg as alg"
      ],
      "execution_count": 12,
      "outputs": []
    },
    {
      "cell_type": "code",
      "metadata": {
        "colab": {
          "base_uri": "https://localhost:8080/"
        },
        "id": "pm-2v_zILhjl",
        "outputId": "9ad1d855-f9f4-4746-a2d4-8a7672db21fe"
      },
      "source": [
        "B=np.array([[2,-4j],[3j,6]])\n",
        "B"
      ],
      "execution_count": 13,
      "outputs": [
        {
          "output_type": "execute_result",
          "data": {
            "text/plain": [
              "array([[ 2.+0.j, -0.-4.j],\n",
              "       [ 0.+3.j,  6.+0.j]])"
            ]
          },
          "metadata": {},
          "execution_count": 13
        }
      ]
    },
    {
      "cell_type": "code",
      "metadata": {
        "id": "XTVBirraL8vg"
      },
      "source": [
        "a,b=alg.eigh(B)"
      ],
      "execution_count": 15,
      "outputs": []
    },
    {
      "cell_type": "code",
      "metadata": {
        "colab": {
          "base_uri": "https://localhost:8080/"
        },
        "id": "j-Zt2BIhMMTm",
        "outputId": "bde582bf-70b6-4953-e381-8ede0a5c0562"
      },
      "source": [
        "print(\"\\n Eighen Value : \",a)"
      ],
      "execution_count": 16,
      "outputs": [
        {
          "output_type": "stream",
          "name": "stdout",
          "text": [
            "\n",
            " Eighen Value :  [0.39444872 7.60555128]\n"
          ]
        }
      ]
    },
    {
      "cell_type": "code",
      "metadata": {
        "colab": {
          "base_uri": "https://localhost:8080/"
        },
        "id": "GyFPP2YHMSWY",
        "outputId": "e66bf3cb-c3ef-43ec-a710-832e494bb3d2"
      },
      "source": [
        "print(\"\\n Eighen Vactor : \",b)"
      ],
      "execution_count": 17,
      "outputs": [
        {
          "output_type": "stream",
          "name": "stdout",
          "text": [
            "\n",
            " Eighen Vactor :  [[-0.8816746 +0.j         -0.47185793+0.j        ]\n",
            " [ 0.        +0.47185793j  0.        -0.8816746j ]]\n"
          ]
        }
      ]
    },
    {
      "cell_type": "code",
      "metadata": {
        "id": "S_nW9SPHMjP4"
      },
      "source": [
        "X=np.diag((4,5,6))"
      ],
      "execution_count": 19,
      "outputs": []
    },
    {
      "cell_type": "code",
      "metadata": {
        "colab": {
          "base_uri": "https://localhost:8080/"
        },
        "id": "UOw-OcG-MtWN",
        "outputId": "a351202b-54f2-40ff-b6c6-65b38dc330b5"
      },
      "source": [
        "print(\"\\n Diagonal Matrix : \",X)"
      ],
      "execution_count": 20,
      "outputs": [
        {
          "output_type": "stream",
          "name": "stdout",
          "text": [
            "\n",
            " Diagonal Matrix :  [[4 0 0]\n",
            " [0 5 0]\n",
            " [0 0 6]]\n"
          ]
        }
      ]
    },
    {
      "cell_type": "code",
      "metadata": {
        "id": "l9IhgbJKMzvV"
      },
      "source": [
        "e,f=alg.eigh(X)"
      ],
      "execution_count": 22,
      "outputs": []
    },
    {
      "cell_type": "code",
      "metadata": {
        "colab": {
          "base_uri": "https://localhost:8080/"
        },
        "id": "qQuTtGr9M8I0",
        "outputId": "940fb23b-f0da-470b-e033-3226965b3b59"
      },
      "source": [
        "print(\"\\n Eighen Value : \",e)"
      ],
      "execution_count": 23,
      "outputs": [
        {
          "output_type": "stream",
          "name": "stdout",
          "text": [
            "\n",
            " Eighen Value :  [4. 5. 6.]\n"
          ]
        }
      ]
    },
    {
      "cell_type": "code",
      "metadata": {
        "colab": {
          "base_uri": "https://localhost:8080/"
        },
        "id": "XIpoBwpRNHQq",
        "outputId": "8ec2fd64-57d5-4cdf-f631-a3e6280f06a8"
      },
      "source": [
        "print(\"\\n Eighen Vactor : \",f)"
      ],
      "execution_count": 24,
      "outputs": [
        {
          "output_type": "stream",
          "name": "stdout",
          "text": [
            "\n",
            " Eighen Vactor :  [[1. 0. 0.]\n",
            " [0. 1. 0.]\n",
            " [0. 0. 1.]]\n"
          ]
        }
      ]
    },
    {
      "cell_type": "code",
      "metadata": {
        "colab": {
          "base_uri": "https://localhost:8080/"
        },
        "id": "W4Oq7CFvNk1o",
        "outputId": "0b92f28d-39c1-479c-be93-1e905257bb98"
      },
      "source": [
        "products=np.dot(5,6)\n",
        "products"
      ],
      "execution_count": 25,
      "outputs": [
        {
          "output_type": "execute_result",
          "data": {
            "text/plain": [
              "30"
            ]
          },
          "metadata": {},
          "execution_count": 25
        }
      ]
    },
    {
      "cell_type": "code",
      "metadata": {
        "id": "OeH14nPyNyqV"
      },
      "source": [
        "V_a=2+4j\n",
        "V_b=4-8j"
      ],
      "execution_count": 26,
      "outputs": []
    },
    {
      "cell_type": "code",
      "metadata": {
        "colab": {
          "base_uri": "https://localhost:8080/"
        },
        "id": "YhkoCwPcN7mq",
        "outputId": "49604f91-a77e-4d08-e44c-2364819290f4"
      },
      "source": [
        "products=np.dot(V_a,V_b)\n",
        "products"
      ],
      "execution_count": 28,
      "outputs": [
        {
          "output_type": "execute_result",
          "data": {
            "text/plain": [
              "(40+0j)"
            ]
          },
          "metadata": {},
          "execution_count": 28
        }
      ]
    },
    {
      "cell_type": "code",
      "metadata": {
        "colab": {
          "base_uri": "https://localhost:8080/"
        },
        "id": "pIX4ioHwO2ju",
        "outputId": "854cd81b-8a82-4e06-8a66-ec27c23e0955"
      },
      "source": [
        "A=np.array([[2,5,-8],[4,-9,-2],[3,4,5,]])\n",
        "B=np.array([7,8,9])\n",
        "Y=np.linalg.inv(A).dot(B)\n",
        "Y"
      ],
      "execution_count": 30,
      "outputs": [
        {
          "output_type": "execute_result",
          "data": {
            "text/plain": [
              "array([ 2.65145985,  0.29562044, -0.02737226])"
            ]
          },
          "metadata": {},
          "execution_count": 30
        }
      ]
    },
    {
      "cell_type": "code",
      "metadata": {
        "colab": {
          "base_uri": "https://localhost:8080/"
        },
        "id": "7V3lcBfsPkZP",
        "outputId": "51921b1c-c6d7-4cff-f855-b1269daf5de6"
      },
      "source": [
        "A=np.array([[2,5,-8],[4,-9,-2],[3,4,5,]])\n",
        "B=np.array([7,8,9])\n",
        "Y=np.linalg.solve(A,B)\n",
        "Y"
      ],
      "execution_count": 31,
      "outputs": [
        {
          "output_type": "execute_result",
          "data": {
            "text/plain": [
              "array([ 2.65145985,  0.29562044, -0.02737226])"
            ]
          },
          "metadata": {},
          "execution_count": 31
        }
      ]
    }
  ]
}