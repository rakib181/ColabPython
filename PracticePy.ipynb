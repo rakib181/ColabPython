{
  "nbformat": 4,
  "nbformat_minor": 0,
  "metadata": {
    "colab": {
      "name": "PracticePy.ipynb",
      "provenance": [],
      "authorship_tag": "ABX9TyOl2VdDCGkU1SDIgV2vQOjB",
      "include_colab_link": true
    },
    "kernelspec": {
      "name": "python3",
      "display_name": "Python 3"
    },
    "language_info": {
      "name": "python"
    }
  },
  "cells": [
    {
      "cell_type": "markdown",
      "metadata": {
        "id": "view-in-github",
        "colab_type": "text"
      },
      "source": [
        "<a href=\"https://colab.research.google.com/github/rakib181/ColabPython/blob/main/PracticePy.ipynb\" target=\"_parent\"><img src=\"https://colab.research.google.com/assets/colab-badge.svg\" alt=\"Open In Colab\"/></a>"
      ]
    },
    {
      "cell_type": "code",
      "execution_count": 11,
      "metadata": {
        "colab": {
          "base_uri": "https://localhost:8080/"
        },
        "id": "9YCHb1Ye2CSw",
        "outputId": "0fdebea0-2de9-4369-aec6-4aa9656f2f1f"
      },
      "outputs": [
        {
          "output_type": "stream",
          "name": "stdout",
          "text": [
            "<class 'int'>\n"
          ]
        }
      ],
      "source": [
        "a=80\n",
        "print(type(a));"
      ]
    },
    {
      "cell_type": "code",
      "source": [
        "a=4\n",
        "print(type(a))"
      ],
      "metadata": {
        "colab": {
          "base_uri": "https://localhost:8080/"
        },
        "id": "qfrxbZVb3m16",
        "outputId": "fa0fab4d-c4d3-4142-9cac-b59e1b0356fb"
      },
      "execution_count": 13,
      "outputs": [
        {
          "output_type": "stream",
          "name": "stdout",
          "text": [
            "<class 'int'>\n"
          ]
        }
      ]
    },
    {
      "cell_type": "code",
      "source": [
        "x=2j\n",
        "print(type(x))"
      ],
      "metadata": {
        "colab": {
          "base_uri": "https://localhost:8080/"
        },
        "id": "grSfJx7F4ToK",
        "outputId": "edf48e50-c344-43fd-adad-b122a8f44236"
      },
      "execution_count": 15,
      "outputs": [
        {
          "output_type": "stream",
          "name": "stdout",
          "text": [
            "<class 'complex'>\n"
          ]
        }
      ]
    },
    {
      "cell_type": "code",
      "source": [
        "a,b,c=\"Red\",\"Green\",\"Yellow\"\n",
        "print(c)"
      ],
      "metadata": {
        "colab": {
          "base_uri": "https://localhost:8080/"
        },
        "id": "6wn1Iqib3ElE",
        "outputId": "daacc6bb-aff7-4df7-c005-39f429e66f24"
      },
      "execution_count": 6,
      "outputs": [
        {
          "output_type": "stream",
          "name": "stdout",
          "text": [
            "Yellow\n"
          ]
        }
      ]
    },
    {
      "cell_type": "code",
      "source": [
        "a=y=z=90\n",
        "print(z)"
      ],
      "metadata": {
        "colab": {
          "base_uri": "https://localhost:8080/"
        },
        "id": "gYSzfOcq3UnV",
        "outputId": "275801df-e8b7-421b-c4b2-7f7a5a7d1728"
      },
      "execution_count": 7,
      "outputs": [
        {
          "output_type": "stream",
          "name": "stdout",
          "text": [
            "90\n"
          ]
        }
      ]
    },
    {
      "cell_type": "code",
      "source": [
        "x5 = [23, 34, 23, 22] \n",
        "print(\"x5:\", x5) \n",
        "print(x5[3]) \n",
        "print(\"Type of x5: \", type(x5)) "
      ],
      "metadata": {
        "colab": {
          "base_uri": "https://localhost:8080/"
        },
        "id": "Jjp3kVwv4xfD",
        "outputId": "81f7634b-2611-4b29-f649-4b6d4e22b145"
      },
      "execution_count": 31,
      "outputs": [
        {
          "output_type": "stream",
          "name": "stdout",
          "text": [
            "x5: [23, 34, 23, 22]\n",
            "22\n",
            "Type of x5:  <class 'list'>\n"
          ]
        }
      ]
    },
    {
      "cell_type": "code",
      "source": [
        "x7=range(10)\n",
        "print(x7)\n",
        "print(type(x7))"
      ],
      "metadata": {
        "colab": {
          "base_uri": "https://localhost:8080/"
        },
        "id": "gWxSvoHD6GaJ",
        "outputId": "35dda328-3321-4eee-b6b1-66e48bb15aaa"
      },
      "execution_count": 33,
      "outputs": [
        {
          "output_type": "stream",
          "name": "stdout",
          "text": [
            "range(0, 10)\n",
            "<class 'range'>\n"
          ]
        }
      ]
    },
    {
      "cell_type": "code",
      "source": [
        "x={1,2,3,4,5}\n",
        "print(type(x))"
      ],
      "metadata": {
        "colab": {
          "base_uri": "https://localhost:8080/"
        },
        "id": "6BopYuP96U-y",
        "outputId": "405b356f-3a25-4431-d4a5-7d71cbaad70a"
      },
      "execution_count": 34,
      "outputs": [
        {
          "output_type": "stream",
          "name": "stdout",
          "text": [
            "<class 'set'>\n"
          ]
        }
      ]
    },
    {
      "cell_type": "code",
      "source": [
        "x={\"Name \": \"RAKIB\",\"Age\" : 23}\n",
        "print(type(x))"
      ],
      "metadata": {
        "colab": {
          "base_uri": "https://localhost:8080/"
        },
        "id": "xmQTqaaK6gGk",
        "outputId": "1202e2a7-37e4-4c91-abae-3e4c5389805f"
      },
      "execution_count": 36,
      "outputs": [
        {
          "output_type": "stream",
          "name": "stdout",
          "text": [
            "<class 'dict'>\n"
          ]
        }
      ]
    },
    {
      "cell_type": "code",
      "source": [
        "x10=frozenset({\"Rakib\",\"Ria\",\"Ratul\"})\n",
        "print(type(x10))"
      ],
      "metadata": {
        "colab": {
          "base_uri": "https://localhost:8080/"
        },
        "id": "P1DHyuje61Ws",
        "outputId": "7d01d255-1d92-4b7d-b98d-3020d163c01d"
      },
      "execution_count": 38,
      "outputs": [
        {
          "output_type": "stream",
          "name": "stdout",
          "text": [
            "<class 'frozenset'>\n"
          ]
        }
      ]
    },
    {
      "cell_type": "code",
      "source": [
        "x11=False\n",
        "print(type(x11))"
      ],
      "metadata": {
        "colab": {
          "base_uri": "https://localhost:8080/"
        },
        "id": "g9jrlUN87FaJ",
        "outputId": "c19913cf-de47-426e-c923-ab0d53fb58f4"
      },
      "execution_count": 40,
      "outputs": [
        {
          "output_type": "stream",
          "name": "stdout",
          "text": [
            "<class 'bool'>\n"
          ]
        }
      ]
    },
    {
      "cell_type": "code",
      "source": [
        "s = \"\"\"Lorem ipsum dolor sit amet,\n",
        "consecrated advising elite,\n",
        "sed do emus temper incident\n",
        "ut labor et door magna alia.\"\"\"\n",
        "\n",
        "s1 = '''Lorem ipsum dolor sit amet,\n",
        "consecrated advising elite,\n",
        "sed do emus temper incident\n",
        "ut labor et door magna alia.'''\n",
        "print(s)\n",
        "print(s1)\n",
        "print(len(s))\n",
        "print(s[0])"
      ],
      "metadata": {
        "colab": {
          "base_uri": "https://localhost:8080/"
        },
        "id": "wZ63o2zS7ue1",
        "outputId": "d3636947-e180-4603-d762-712a6ece7d62"
      },
      "execution_count": 44,
      "outputs": [
        {
          "output_type": "stream",
          "name": "stdout",
          "text": [
            "Lorem ipsum dolor sit amet,\n",
            "consecrated advising elite,\n",
            "sed do emus temper incident\n",
            "ut labor et door magna alia.\n",
            "Lorem ipsum dolor sit amet,\n",
            "consecrated advising elite,\n",
            "sed do emus temper incident\n",
            "ut labor et door magna alia.\n",
            "112\n",
            "L\n"
          ]
        }
      ]
    },
    {
      "cell_type": "code",
      "source": [
        "for x in \"Apple\":\n",
        "   print(x ,end=\"\")"
      ],
      "metadata": {
        "colab": {
          "base_uri": "https://localhost:8080/"
        },
        "id": "nwNgvjiw70EL",
        "outputId": "c4b320cc-7c95-46e5-ea46-e4c316236fb2"
      },
      "execution_count": 54,
      "outputs": [
        {
          "output_type": "stream",
          "name": "stdout",
          "text": [
            "Apple"
          ]
        }
      ]
    },
    {
      "cell_type": "code",
      "source": [
        "text='Hello Rakib, This is your destination now'\n",
        "print(text[6:11])"
      ],
      "metadata": {
        "colab": {
          "base_uri": "https://localhost:8080/"
        },
        "id": "SNHNxwAy9BBA",
        "outputId": "347021b3-aa7c-447b-a876-49460eb46e6a"
      },
      "execution_count": 57,
      "outputs": [
        {
          "output_type": "stream",
          "name": "stdout",
          "text": [
            "Rakib\n"
          ]
        }
      ]
    },
    {
      "cell_type": "code",
      "source": [
        "print(text[:11])"
      ],
      "metadata": {
        "colab": {
          "base_uri": "https://localhost:8080/"
        },
        "id": "4l8Ubiuh9WqH",
        "outputId": "10fa29aa-eeb2-4503-9974-ce69fbd64381"
      },
      "execution_count": 59,
      "outputs": [
        {
          "output_type": "stream",
          "name": "stdout",
          "text": [
            "Hello Rakib\n"
          ]
        }
      ]
    },
    {
      "cell_type": "code",
      "source": [
        "print(text[13:])"
      ],
      "metadata": {
        "colab": {
          "base_uri": "https://localhost:8080/"
        },
        "id": "yGPwVJGB9hg2",
        "outputId": "d3c3fc42-459a-4ed6-a2ca-571d36390139"
      },
      "execution_count": 61,
      "outputs": [
        {
          "output_type": "stream",
          "name": "stdout",
          "text": [
            "This is your destination now\n"
          ]
        }
      ]
    },
    {
      "cell_type": "code",
      "source": [
        "print(text[-6:-2])"
      ],
      "metadata": {
        "colab": {
          "base_uri": "https://localhost:8080/"
        },
        "id": "floqQ8fB9o_E",
        "outputId": "90b4c178-98db-4b69-e22b-52c128d47295"
      },
      "execution_count": 62,
      "outputs": [
        {
          "output_type": "stream",
          "name": "stdout",
          "text": [
            "on n\n"
          ]
        }
      ]
    },
    {
      "cell_type": "code",
      "source": [
        "text2='Hello Nuairaa?'\n",
        "print(text2.upper())\n",
        "print(text2.lower())\n",
        "print(text2.replace(\"Hello\",\"Baba\"))"
      ],
      "metadata": {
        "colab": {
          "base_uri": "https://localhost:8080/"
        },
        "id": "2KUGixj-91CS",
        "outputId": "525b9df2-7d62-4f9f-e337-17f49acdb21a"
      },
      "execution_count": 65,
      "outputs": [
        {
          "output_type": "stream",
          "name": "stdout",
          "text": [
            "HELLO NUAIRAA?\n",
            "hello nuairaa?\n",
            "Baba Nuairaa?\n"
          ]
        }
      ]
    },
    {
      "cell_type": "code",
      "source": [
        "t=\"Rakib Munna\"\n",
        "print(t.split(' '))"
      ],
      "metadata": {
        "colab": {
          "base_uri": "https://localhost:8080/"
        },
        "id": "cFvxd9CA-WSv",
        "outputId": "ca85ab0c-b68c-4714-c0cb-ade17aa01def"
      },
      "execution_count": 69,
      "outputs": [
        {
          "output_type": "stream",
          "name": "stdout",
          "text": [
            "['Rakib', 'Munna']\n"
          ]
        }
      ]
    },
    {
      "cell_type": "code",
      "source": [
        "t1='Rakib'\n",
        "t2='Hasan'\n",
        "print(t1+t2)\n",
        "print(t1+' '+t2)"
      ],
      "metadata": {
        "colab": {
          "base_uri": "https://localhost:8080/"
        },
        "id": "uLfpR7yP-wxH",
        "outputId": "087c789e-5411-4a90-b99f-178510a6854e"
      },
      "execution_count": 72,
      "outputs": [
        {
          "output_type": "stream",
          "name": "stdout",
          "text": [
            "RakibHasan\n",
            "Rakib Hasan\n"
          ]
        }
      ]
    },
    {
      "cell_type": "code",
      "source": [
        "a=24\n",
        "print(\"A=\",+a)"
      ],
      "metadata": {
        "colab": {
          "base_uri": "https://localhost:8080/"
        },
        "id": "pWnAqpoh_C6Z",
        "outputId": "afb4bc5f-7802-45c3-f20c-b6f1c818a2fd"
      },
      "execution_count": 75,
      "outputs": [
        {
          "output_type": "stream",
          "name": "stdout",
          "text": [
            "A= 24\n"
          ]
        }
      ]
    },
    {
      "cell_type": "code",
      "source": [
        "a1=\"A={}\"\n",
        "print(a1.format(a))"
      ],
      "metadata": {
        "colab": {
          "base_uri": "https://localhost:8080/"
        },
        "id": "UCikdkbG_Vui",
        "outputId": "1a9679cb-2edf-496c-8a53-08540008e77e"
      },
      "execution_count": 76,
      "outputs": [
        {
          "output_type": "stream",
          "name": "stdout",
          "text": [
            "A=24\n"
          ]
        }
      ]
    },
    {
      "cell_type": "code",
      "source": [
        "quantity = 3\n",
        "\n",
        "itemno = 567\n",
        "price = 49.95\n",
        "myorder = \"I want {} pieces of item {} for {} dollars.\"\n",
        "print(myorder.format(quantity, itemno, price))"
      ],
      "metadata": {
        "colab": {
          "base_uri": "https://localhost:8080/"
        },
        "id": "6aRKtb34_w8T",
        "outputId": "7e20e64e-7e6b-4649-8038-3477d76c6d8f"
      },
      "execution_count": 77,
      "outputs": [
        {
          "output_type": "stream",
          "name": "stdout",
          "text": [
            "I want 3 pieces of item 567 for 49.95 dollars.\n"
          ]
        }
      ]
    },
    {
      "cell_type": "code",
      "source": [
        "print(bool(\"\")) \n",
        "print(bool(0)) \n",
        "print(bool(())) \n",
        "print(bool({})) \n",
        "print(bool(([10,20]))) "
      ],
      "metadata": {
        "colab": {
          "base_uri": "https://localhost:8080/"
        },
        "id": "4FVFkqEOADRb",
        "outputId": "f168d77b-42cb-4f8d-9e8a-0e5437dc14b5"
      },
      "execution_count": 81,
      "outputs": [
        {
          "output_type": "stream",
          "name": "stdout",
          "text": [
            "False\n",
            "False\n",
            "False\n",
            "False\n",
            "True\n"
          ]
        }
      ]
    },
    {
      "cell_type": "code",
      "source": [
        "print(2 + 5) \n",
        "print(5 - 2) \n",
        "print(5 * 2) \n",
        "print(10 / 2) \n",
        "print(11 % 2) \n",
        "print(4 ** 3) \n",
        "print(5 / 2) \n",
        "print(17 // 5)"
      ],
      "metadata": {
        "colab": {
          "base_uri": "https://localhost:8080/"
        },
        "id": "y9LedT50BQd2",
        "outputId": "602daefe-0771-45d2-e1ad-88b6ef5483d7"
      },
      "execution_count": 90,
      "outputs": [
        {
          "output_type": "stream",
          "name": "stdout",
          "text": [
            "7\n",
            "3\n",
            "10\n",
            "5.0\n",
            "1\n",
            "64\n",
            "2.5\n",
            "3\n"
          ]
        }
      ]
    },
    {
      "cell_type": "code",
      "source": [
        "x = 5\n",
        "print(x > 3 and x < 10) \n",
        "print(x > 3 and x < 4) \n",
        "print(x > 3 or x < 4) \n",
        "print(x > 3 or x < 10) \n",
        "print(x > 5 or x < 4) \n",
        "print(not True) \n",
        "print(not (x > 3 or x < 4))"
      ],
      "metadata": {
        "colab": {
          "base_uri": "https://localhost:8080/"
        },
        "id": "QTgrKacfCG72",
        "outputId": "258650c9-2f76-4ba5-def8-d639bfa04af7"
      },
      "execution_count": 91,
      "outputs": [
        {
          "output_type": "stream",
          "name": "stdout",
          "text": [
            "True\n",
            "False\n",
            "True\n",
            "True\n",
            "False\n",
            "False\n",
            "False\n"
          ]
        }
      ]
    },
    {
      "cell_type": "code",
      "source": [
        "i=1\n",
        "while i<6:\n",
        "  print(i ,end=\" \")\n",
        "  i+=1"
      ],
      "metadata": {
        "colab": {
          "base_uri": "https://localhost:8080/"
        },
        "id": "N7FS8oFoCOyt",
        "outputId": "bc1716ff-4262-4888-ccea-d13019cce70e"
      },
      "execution_count": 93,
      "outputs": [
        {
          "output_type": "stream",
          "name": "stdout",
          "text": [
            "1 2 3 4 5 "
          ]
        }
      ]
    },
    {
      "cell_type": "code",
      "source": [
        "v={10,5,23,45}\n",
        "for i in v:\n",
        "  print(i ,end=\" \")"
      ],
      "metadata": {
        "colab": {
          "base_uri": "https://localhost:8080/"
        },
        "id": "NWZjIddDBiqC",
        "outputId": "3931fe78-dd4d-4503-ae0f-b05ea5491cc7"
      },
      "execution_count": 94,
      "outputs": [
        {
          "output_type": "stream",
          "name": "stdout",
          "text": [
            "10 45 5 23 "
          ]
        }
      ]
    },
    {
      "cell_type": "code",
      "source": [
        "i=0\n",
        "while i<10:\n",
        "  print(i ,end=\" \")\n",
        "  if i==8:\n",
        "    break\n",
        "  i+=2"
      ],
      "metadata": {
        "colab": {
          "base_uri": "https://localhost:8080/"
        },
        "id": "Fa1VsSSJEeC0",
        "outputId": "41ab7029-cbfa-423a-941d-9f88033c2d19"
      },
      "execution_count": 98,
      "outputs": [
        {
          "output_type": "stream",
          "name": "stdout",
          "text": [
            "0 2 4 6 8 "
          ]
        }
      ]
    },
    {
      "cell_type": "code",
      "source": [
        "fruits = [\"Apple\", \"Banana\", \"Cherry\"]\n",
        "for x in fruits:\n",
        "    print(x ,end=\" \") "
      ],
      "metadata": {
        "colab": {
          "base_uri": "https://localhost:8080/"
        },
        "id": "Ecp-UPQpFFFO",
        "outputId": "746da213-ca29-451e-f858-5d3ea00b197e"
      },
      "execution_count": 102,
      "outputs": [
        {
          "output_type": "stream",
          "name": "stdout",
          "text": [
            "Apple Banana Cherry "
          ]
        }
      ]
    },
    {
      "cell_type": "code",
      "source": [
        "for i in range(10):\n",
        "  print(i ,end=\" \")"
      ],
      "metadata": {
        "colab": {
          "base_uri": "https://localhost:8080/"
        },
        "id": "gYVxqj39FO4v",
        "outputId": "bbfc39d0-87ed-4a43-a12e-b6479783f4bc"
      },
      "execution_count": 105,
      "outputs": [
        {
          "output_type": "stream",
          "name": "stdout",
          "text": [
            "0 1 2 3 4 5 6 7 8 9 "
          ]
        }
      ]
    },
    {
      "cell_type": "code",
      "source": [
        "for i in range(5,10):\n",
        "  print(i ,end=\" \")"
      ],
      "metadata": {
        "colab": {
          "base_uri": "https://localhost:8080/"
        },
        "id": "-ryCm7YZFbfR",
        "outputId": "a6a50d0b-25d8-4e7e-ede5-162023ced796"
      },
      "execution_count": 106,
      "outputs": [
        {
          "output_type": "stream",
          "name": "stdout",
          "text": [
            "5 6 7 8 9 "
          ]
        }
      ]
    },
    {
      "cell_type": "code",
      "source": [
        "for i in range(2,7,4):\n",
        "  print(i,end=\" \")"
      ],
      "metadata": {
        "colab": {
          "base_uri": "https://localhost:8080/"
        },
        "id": "702D5NeLFjgg",
        "outputId": "b68b2008-d167-4b9a-a5f5-9db4854f3b71"
      },
      "execution_count": 110,
      "outputs": [
        {
          "output_type": "stream",
          "name": "stdout",
          "text": [
            "2 6 "
          ]
        }
      ]
    },
    {
      "cell_type": "code",
      "source": [
        "for i in range(5):\n",
        "   print(i, end=\" \")\n",
        "else:\n",
        "   print(\"Finished.\")"
      ],
      "metadata": {
        "colab": {
          "base_uri": "https://localhost:8080/"
        },
        "id": "xtpAgfH9F35R",
        "outputId": "384e26be-8dd3-484f-caa9-b68d81769817"
      },
      "execution_count": 114,
      "outputs": [
        {
          "output_type": "stream",
          "name": "stdout",
          "text": [
            "0 1 2 3 4 Finished.\n"
          ]
        }
      ]
    },
    {
      "cell_type": "code",
      "source": [
        "for i in range(1, 6):\n",
        "  for j in range(1, i+1):\n",
        "    print(\"*\", end=\" \")\n",
        "  print()"
      ],
      "metadata": {
        "colab": {
          "base_uri": "https://localhost:8080/"
        },
        "id": "6lVWLnTlGDW4",
        "outputId": "fc690865-e4df-4f77-857a-9ae55f8ef5a6"
      },
      "execution_count": 119,
      "outputs": [
        {
          "output_type": "stream",
          "name": "stdout",
          "text": [
            "* \n",
            "* * \n",
            "* * * \n",
            "* * * * \n",
            "* * * * * \n"
          ]
        }
      ]
    },
    {
      "cell_type": "code",
      "source": [
        "list=[\"Cat\",\"Dog\",\"Rabbit\",\"Rakib, Nuairaa\",\"Pig\"]\n",
        "for i in list:\n",
        "  print(i,end=\" \")"
      ],
      "metadata": {
        "colab": {
          "base_uri": "https://localhost:8080/"
        },
        "id": "FL9LjxVyGUqm",
        "outputId": "b94a16c4-0013-4911-c33b-a0769c58f42e"
      },
      "execution_count": 121,
      "outputs": [
        {
          "output_type": "stream",
          "name": "stdout",
          "text": [
            "Cat Dog Rabbit Rakib, Nuairaa Pig "
          ]
        }
      ]
    },
    {
      "cell_type": "code",
      "source": [
        "for i in range(len(list)):\n",
        "  print(list[i],end=\" \")"
      ],
      "metadata": {
        "colab": {
          "base_uri": "https://localhost:8080/"
        },
        "id": "HDk-a4qvGvEu",
        "outputId": "ac70e36d-5c3a-481b-9fd4-0838fcdf157d"
      },
      "execution_count": 127,
      "outputs": [
        {
          "output_type": "stream",
          "name": "stdout",
          "text": [
            "Cat Dog Rabbit Rakib, Nuairaa Pig "
          ]
        }
      ]
    }
  ]
}