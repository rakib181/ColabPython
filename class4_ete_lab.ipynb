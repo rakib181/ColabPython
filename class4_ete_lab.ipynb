{
  "nbformat": 4,
  "nbformat_minor": 0,
  "metadata": {
    "colab": {
      "name": "class4_ete_lab.ipynb",
      "provenance": [],
      "collapsed_sections": [],
      "include_colab_link": true
    },
    "kernelspec": {
      "name": "python3",
      "display_name": "Python 3"
    },
    "language_info": {
      "name": "python"
    }
  },
  "cells": [
    {
      "cell_type": "markdown",
      "metadata": {
        "id": "view-in-github",
        "colab_type": "text"
      },
      "source": [
        "<a href=\"https://colab.research.google.com/github/rakib181/heisenberg/blob/main/class4_ete_lab.ipynb\" target=\"_parent\"><img src=\"https://colab.research.google.com/assets/colab-badge.svg\" alt=\"Open In Colab\"/></a>"
      ]
    },
    {
      "cell_type": "code",
      "metadata": {
        "id": "ywrNJa4WrYgd"
      },
      "source": [
        "import numpy as np"
      ],
      "execution_count": null,
      "outputs": []
    },
    {
      "cell_type": "code",
      "metadata": {
        "colab": {
          "base_uri": "https://localhost:8080/"
        },
        "id": "d7aakvN1sBWJ",
        "outputId": "5802362a-e99a-46de-9961-4c9c7e9dbde3"
      },
      "source": [
        "arr1 = np.random.randint(10,30, size=8)\n",
        "arr1"
      ],
      "execution_count": null,
      "outputs": [
        {
          "output_type": "execute_result",
          "data": {
            "text/plain": [
              "array([26, 26, 18, 23, 17, 22, 10, 16])"
            ]
          },
          "metadata": {},
          "execution_count": 5
        }
      ]
    },
    {
      "cell_type": "code",
      "metadata": {
        "colab": {
          "base_uri": "https://localhost:8080/"
        },
        "id": "lgDMX6xDrHWH",
        "outputId": "a0843928-d7b3-4654-dd93-b5baf9cb7e81"
      },
      "source": [
        "arr2 = np.random.randint(20,200,size=50).reshape(5,10)  #method chaining - numbers from 0 to 50\n",
        "arr2"
      ],
      "execution_count": null,
      "outputs": [
        {
          "output_type": "execute_result",
          "data": {
            "text/plain": [
              "array([[ 84, 163, 190, 148, 110,  68, 105, 195,  93,  69],\n",
              "       [188, 177, 183, 183, 134, 154, 132, 126, 102,  96],\n",
              "       [141,  32, 191, 137,  38,  34, 173, 100, 163,  87],\n",
              "       [ 34,  80, 122,  78, 175,  24,  76, 116, 152,  55],\n",
              "       [ 29,  99, 187, 124,  56,  49, 161, 167,  69, 170]])"
            ]
          },
          "metadata": {},
          "execution_count": 3
        }
      ]
    },
    {
      "cell_type": "code",
      "metadata": {
        "colab": {
          "base_uri": "https://localhost:8080/"
        },
        "id": "m2r8H6aFr3E2",
        "outputId": "b8fbb1d1-9daa-47a1-fb81-7da2eb79ded0"
      },
      "source": [
        "arr1[0]"
      ],
      "execution_count": null,
      "outputs": [
        {
          "output_type": "execute_result",
          "data": {
            "text/plain": [
              "26"
            ]
          },
          "metadata": {},
          "execution_count": 7
        }
      ]
    },
    {
      "cell_type": "code",
      "metadata": {
        "colab": {
          "base_uri": "https://localhost:8080/"
        },
        "id": "rJ3dfhqBsIEt",
        "outputId": "39398e51-8378-4067-b8a9-497e24295c4b"
      },
      "source": [
        "arr1[3]"
      ],
      "execution_count": null,
      "outputs": [
        {
          "output_type": "execute_result",
          "data": {
            "text/plain": [
              "23"
            ]
          },
          "metadata": {},
          "execution_count": 8
        }
      ]
    },
    {
      "cell_type": "code",
      "metadata": {
        "colab": {
          "base_uri": "https://localhost:8080/"
        },
        "id": "1zW8Bu4PsKzl",
        "outputId": "0fef87ac-95b4-4a7a-ba82-7b29fc9c9e09"
      },
      "source": [
        "arr1[:3] #get the first 3 elements. Gets lower bounds inclusive, upper bound exclusive"
      ],
      "execution_count": null,
      "outputs": [
        {
          "output_type": "execute_result",
          "data": {
            "text/plain": [
              "array([26, 26, 18])"
            ]
          },
          "metadata": {},
          "execution_count": 9
        }
      ]
    },
    {
      "cell_type": "code",
      "metadata": {
        "colab": {
          "base_uri": "https://localhost:8080/"
        },
        "id": "zbBZfOyVsQER",
        "outputId": "b8c39dd2-65cc-4cc4-a572-2d69087eba27"
      },
      "source": [
        "arr1[2:] #lower bound inclusive"
      ],
      "execution_count": null,
      "outputs": [
        {
          "output_type": "execute_result",
          "data": {
            "text/plain": [
              "array([18, 23, 17, 22, 10, 16])"
            ]
          },
          "metadata": {},
          "execution_count": 10
        }
      ]
    },
    {
      "cell_type": "code",
      "metadata": {
        "colab": {
          "base_uri": "https://localhost:8080/"
        },
        "id": "hpb4AK2AsY9V",
        "outputId": "836ffffa-4b7d-4fff-a8fc-6dd52839fd70"
      },
      "source": [
        "arr1[2:5] #get elements at index 2,3,4"
      ],
      "execution_count": null,
      "outputs": [
        {
          "output_type": "execute_result",
          "data": {
            "text/plain": [
              "array([18, 23, 17])"
            ]
          },
          "metadata": {},
          "execution_count": 11
        }
      ]
    },
    {
      "cell_type": "code",
      "metadata": {
        "colab": {
          "base_uri": "https://localhost:8080/"
        },
        "id": "9X_Mbcb4uxXe",
        "outputId": "87af117b-1501-458c-9953-8a1c775e54f8"
      },
      "source": [
        "#Show last element\n",
        "arr1[-1]"
      ],
      "execution_count": null,
      "outputs": [
        {
          "output_type": "execute_result",
          "data": {
            "text/plain": [
              "16"
            ]
          },
          "metadata": {},
          "execution_count": 30
        }
      ]
    },
    {
      "cell_type": "code",
      "metadata": {
        "colab": {
          "base_uri": "https://localhost:8080/"
        },
        "id": "7wrA2KNQvA-i",
        "outputId": "b0165abf-e923-4ff0-dc0a-2c47cc11e91b"
      },
      "source": [
        "#Show all element\n",
        "arr1[:]"
      ],
      "execution_count": null,
      "outputs": [
        {
          "output_type": "execute_result",
          "data": {
            "text/plain": [
              "array([26, 26, 18, 23, 17, 22, 10, 16])"
            ]
          },
          "metadata": {},
          "execution_count": 32
        }
      ]
    },
    {
      "cell_type": "code",
      "metadata": {
        "colab": {
          "base_uri": "https://localhost:8080/"
        },
        "id": "qJpjqW4qsdzJ",
        "outputId": "1558f96d-aaff-4258-bd37-ea3c61c86ec2"
      },
      "source": [
        "arr2[0,0] #style 1 - you pass in a list of indices"
      ],
      "execution_count": null,
      "outputs": [
        {
          "output_type": "execute_result",
          "data": {
            "text/plain": [
              "84"
            ]
          },
          "metadata": {},
          "execution_count": 12
        }
      ]
    },
    {
      "cell_type": "code",
      "metadata": {
        "colab": {
          "base_uri": "https://localhost:8080/"
        },
        "id": "50xJS2r_sh85",
        "outputId": "b98ee8cc-aee9-4452-ec8c-15627e1f2dd6"
      },
      "source": [
        "arr2[0][0] #style 2 - parse it as list of lists - not so popular"
      ],
      "execution_count": null,
      "outputs": [
        {
          "output_type": "execute_result",
          "data": {
            "text/plain": [
              "84"
            ]
          },
          "metadata": {},
          "execution_count": 13
        }
      ]
    },
    {
      "cell_type": "code",
      "metadata": {
        "colab": {
          "base_uri": "https://localhost:8080/"
        },
        "id": "5AUDW1weskgp",
        "outputId": "233cda44-e8c7-4516-e645-fedc9d0571a4"
      },
      "source": [
        "arr2[1] # get a full row"
      ],
      "execution_count": null,
      "outputs": [
        {
          "output_type": "execute_result",
          "data": {
            "text/plain": [
              "array([188, 177, 183, 183, 134, 154, 132, 126, 102,  96])"
            ]
          },
          "metadata": {},
          "execution_count": 14
        }
      ]
    },
    {
      "cell_type": "code",
      "metadata": {
        "colab": {
          "base_uri": "https://localhost:8080/"
        },
        "id": "xIGb1H3Kspq9",
        "outputId": "81355e96-c7d8-47ad-9a73-0a1a60229c09"
      },
      "source": [
        "#get the second column\n",
        "arr2[:,1]"
      ],
      "execution_count": null,
      "outputs": [
        {
          "output_type": "execute_result",
          "data": {
            "text/plain": [
              "array([163, 177,  32,  80,  99])"
            ]
          },
          "metadata": {},
          "execution_count": 15
        }
      ]
    },
    {
      "cell_type": "code",
      "metadata": {
        "colab": {
          "base_uri": "https://localhost:8080/"
        },
        "id": "EQV-ESzjszYV",
        "outputId": "f0b5921d-c3fc-4cf1-8132-842f65901de9"
      },
      "source": [
        "#get the 3rd row\n",
        "arr2[2,:] #which is same as arr2[2]"
      ],
      "execution_count": null,
      "outputs": [
        {
          "output_type": "execute_result",
          "data": {
            "text/plain": [
              "array([141,  32, 191, 137,  38,  34, 173, 100, 163,  87])"
            ]
          },
          "metadata": {},
          "execution_count": 16
        }
      ]
    },
    {
      "cell_type": "code",
      "metadata": {
        "colab": {
          "base_uri": "https://localhost:8080/"
        },
        "id": "bhp6S1vWs7Tm",
        "outputId": "576132fb-2a3a-430b-b9aa-d37dc483d857"
      },
      "source": [
        "#get the center 3,3 elements - columns 4,5,6 and rows 1,2,3\n",
        "arr2[1:4, 4:7]"
      ],
      "execution_count": null,
      "outputs": [
        {
          "output_type": "execute_result",
          "data": {
            "text/plain": [
              "array([[134, 154, 132],\n",
              "       [ 38,  34, 173],\n",
              "       [175,  24,  76]])"
            ]
          },
          "metadata": {},
          "execution_count": 17
        }
      ]
    },
    {
      "cell_type": "code",
      "metadata": {
        "colab": {
          "base_uri": "https://localhost:8080/"
        },
        "id": "FbOu-f0Qs_Nm",
        "outputId": "1dfe2010-d591-47f3-85ba-0c2ab2b275bc"
      },
      "source": [
        "arr2_subset = arr2[1:4, 4:7]\n",
        "arr2_subset"
      ],
      "execution_count": null,
      "outputs": [
        {
          "output_type": "execute_result",
          "data": {
            "text/plain": [
              "array([[134, 154, 132],\n",
              "       [ 38,  34, 173],\n",
              "       [175,  24,  76]])"
            ]
          },
          "metadata": {},
          "execution_count": 18
        }
      ]
    },
    {
      "cell_type": "code",
      "metadata": {
        "colab": {
          "base_uri": "https://localhost:8080/"
        },
        "id": "FQSYs0vftJal",
        "outputId": "a0606f22-6377-4943-8a84-af28fa3aa952"
      },
      "source": [
        "arr2_subset[:,:] = 999 #assign this entire numpy the same values\n",
        "arr2_subset"
      ],
      "execution_count": null,
      "outputs": [
        {
          "output_type": "execute_result",
          "data": {
            "text/plain": [
              "array([[999, 999, 999],\n",
              "       [999, 999, 999],\n",
              "       [999, 999, 999]])"
            ]
          },
          "metadata": {},
          "execution_count": 19
        }
      ]
    },
    {
      "cell_type": "code",
      "metadata": {
        "colab": {
          "base_uri": "https://localhost:8080/"
        },
        "id": "JGrxYJhCtNrR",
        "outputId": "4ccd6519-28c4-4842-9b1f-cdddf9ec1d0f"
      },
      "source": [
        "arr3_subset = arr2_subset.copy()\n",
        "arr3_subset"
      ],
      "execution_count": null,
      "outputs": [
        {
          "output_type": "execute_result",
          "data": {
            "text/plain": [
              "array([[999, 999, 999],\n",
              "       [999, 999, 999],\n",
              "       [999, 999, 999]])"
            ]
          },
          "metadata": {},
          "execution_count": 20
        }
      ]
    },
    {
      "cell_type": "code",
      "metadata": {
        "colab": {
          "base_uri": "https://localhost:8080/"
        },
        "id": "NT0YKsXztYDl",
        "outputId": "fe67052c-d322-4e4a-a225-6791e08b2a76"
      },
      "source": [
        "#Notice they are different objects in memory. Thus changing arr3_subset will not affect its source\n",
        "arr3_subset[:,:] = 0.1\n",
        "arr2_subset"
      ],
      "execution_count": null,
      "outputs": [
        {
          "output_type": "execute_result",
          "data": {
            "text/plain": [
              "array([[999, 999, 999],\n",
              "       [999, 999, 999],\n",
              "       [999, 999, 999]])"
            ]
          },
          "metadata": {},
          "execution_count": 21
        }
      ]
    },
    {
      "cell_type": "code",
      "metadata": {
        "colab": {
          "base_uri": "https://localhost:8080/"
        },
        "id": "l0FrdttWtjqq",
        "outputId": "c3fd9381-d624-4689-d04b-78b9572d822e"
      },
      "source": [
        "arr1"
      ],
      "execution_count": null,
      "outputs": [
        {
          "output_type": "execute_result",
          "data": {
            "text/plain": [
              "array([26, 26, 18, 23, 17, 22, 10, 16])"
            ]
          },
          "metadata": {},
          "execution_count": 22
        }
      ]
    },
    {
      "cell_type": "code",
      "metadata": {
        "colab": {
          "base_uri": "https://localhost:8080/"
        },
        "id": "EO8xWqy2tmNr",
        "outputId": "37660dde-1822-4d50-8b52-45748fad4bdd"
      },
      "source": [
        "arr1>15  # gives truth vector"
      ],
      "execution_count": null,
      "outputs": [
        {
          "output_type": "execute_result",
          "data": {
            "text/plain": [
              "array([ True,  True,  True,  True,  True,  True, False,  True])"
            ]
          },
          "metadata": {},
          "execution_count": 23
        }
      ]
    },
    {
      "cell_type": "code",
      "metadata": {
        "colab": {
          "base_uri": "https://localhost:8080/"
        },
        "id": "h_lvRNYitnly",
        "outputId": "29346d01-7772-4249-d3f1-ffff9ee709ea"
      },
      "source": [
        "#You can use the Truth vector as an index to search. Get all numbers greater than 15\n",
        "arr1[arr1 > 15]"
      ],
      "execution_count": null,
      "outputs": [
        {
          "output_type": "execute_result",
          "data": {
            "text/plain": [
              "array([26, 26, 18, 23, 17, 22, 16])"
            ]
          },
          "metadata": {},
          "execution_count": 24
        }
      ]
    },
    {
      "cell_type": "code",
      "metadata": {
        "colab": {
          "base_uri": "https://localhost:8080/"
        },
        "id": "eltDFZ_VtwGO",
        "outputId": "7af39ab5-27a7-49ea-9694-b1979f177c81"
      },
      "source": [
        "arr1[arr1 > 20]"
      ],
      "execution_count": null,
      "outputs": [
        {
          "output_type": "execute_result",
          "data": {
            "text/plain": [
              "array([26, 26, 23, 22])"
            ]
          },
          "metadata": {},
          "execution_count": 25
        }
      ]
    },
    {
      "cell_type": "code",
      "metadata": {
        "colab": {
          "base_uri": "https://localhost:8080/"
        },
        "id": "Ijx0y1c5t0Ji",
        "outputId": "9751fdc4-0640-45dc-c20e-d43eb2ace415"
      },
      "source": [
        "arr1 > 12"
      ],
      "execution_count": null,
      "outputs": [
        {
          "output_type": "execute_result",
          "data": {
            "text/plain": [
              "array([ True,  True,  True,  True,  True,  True, False,  True])"
            ]
          },
          "metadata": {},
          "execution_count": 26
        }
      ]
    },
    {
      "cell_type": "code",
      "metadata": {
        "colab": {
          "base_uri": "https://localhost:8080/"
        },
        "id": "kA5gDGF1t5mC",
        "outputId": "dae13ae7-0ef5-47a1-eb48-4cf233fa78ff"
      },
      "source": [
        "arr2[arr2 > 50] #looses the original shape as its impossible to keep the 2D shape"
      ],
      "execution_count": null,
      "outputs": [
        {
          "output_type": "execute_result",
          "data": {
            "text/plain": [
              "array([ 84, 163, 190, 148, 110,  68, 105, 195,  93,  69, 188, 177, 183,\n",
              "       183, 999, 999, 999, 126, 102,  96, 141, 191, 137, 999, 999, 999,\n",
              "       100, 163,  87,  80, 122,  78, 999, 999, 999, 116, 152,  55,  99,\n",
              "       187, 124,  56, 161, 167,  69, 170])"
            ]
          },
          "metadata": {},
          "execution_count": 27
        }
      ]
    },
    {
      "cell_type": "code",
      "metadata": {
        "colab": {
          "base_uri": "https://localhost:8080/"
        },
        "id": "7NoqtuqxuCRy",
        "outputId": "c4ca4106-1556-4f44-baf1-b907367e200f"
      },
      "source": [
        "arr2[arr2 < 30]"
      ],
      "execution_count": null,
      "outputs": [
        {
          "output_type": "execute_result",
          "data": {
            "text/plain": [
              "array([29])"
            ]
          },
          "metadata": {},
          "execution_count": 28
        }
      ]
    },
    {
      "cell_type": "code",
      "metadata": {
        "colab": {
          "base_uri": "https://localhost:8080/"
        },
        "id": "_ShRBImWuGlC",
        "outputId": "5ee68b16-26d2-4106-fa72-cd2d87c23b96"
      },
      "source": [
        "#Compound searching\n",
        "arr1[(arr1>16) & (arr1<23)]"
      ],
      "execution_count": null,
      "outputs": [
        {
          "output_type": "execute_result",
          "data": {
            "text/plain": [
              "array([18, 17, 22])"
            ]
          },
          "metadata": {},
          "execution_count": 29
        }
      ]
    },
    {
      "cell_type": "markdown",
      "metadata": {
        "id": "ciVjX-kZujHy"
      },
      "source": [
        "Before writing a loop, look up the function list here\n",
        "https://numpy.org/doc/stable/reference/ufuncs.html#available-ufuncs"
      ]
    }
  ]
}