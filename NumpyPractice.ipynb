{
  "nbformat": 4,
  "nbformat_minor": 0,
  "metadata": {
    "colab": {
      "name": "NumpyPractice.ipynb",
      "provenance": [],
      "authorship_tag": "ABX9TyOHvsgjmb7MWHuunvpFL5G1",
      "include_colab_link": true
    },
    "kernelspec": {
      "name": "python3",
      "display_name": "Python 3"
    },
    "language_info": {
      "name": "python"
    }
  },
  "cells": [
    {
      "cell_type": "markdown",
      "metadata": {
        "id": "view-in-github",
        "colab_type": "text"
      },
      "source": [
        "<a href=\"https://colab.research.google.com/github/rakib181/heisenberg/blob/main/NumpyPractice.ipynb\" target=\"_parent\"><img src=\"https://colab.research.google.com/assets/colab-badge.svg\" alt=\"Open In Colab\"/></a>"
      ]
    },
    {
      "cell_type": "code",
      "metadata": {
        "id": "rn-wO6ysYDUy"
      },
      "source": [
        "import numpy as np"
      ],
      "execution_count": 1,
      "outputs": []
    },
    {
      "cell_type": "code",
      "metadata": {
        "colab": {
          "base_uri": "https://localhost:8080/"
        },
        "id": "xtnIA9BzYZeD",
        "outputId": "c530c590-9620-451c-c8d0-fdd34a2da17a"
      },
      "source": [
        "R=[20,30,25,35,45,50,65,75,80,70]\n",
        "A=np.array(R)\n",
        "A"
      ],
      "execution_count": 2,
      "outputs": [
        {
          "output_type": "execute_result",
          "data": {
            "text/plain": [
              "array([20, 30, 25, 35, 45, 50, 65, 75, 80, 70])"
            ]
          },
          "metadata": {},
          "execution_count": 2
        }
      ]
    },
    {
      "cell_type": "code",
      "metadata": {
        "colab": {
          "base_uri": "https://localhost:8080/"
        },
        "id": "UUdkbOndY9yL",
        "outputId": "1ddc8922-2e71-4ca5-9f82-7b267bad237d"
      },
      "source": [
        "A.ndim"
      ],
      "execution_count": 3,
      "outputs": [
        {
          "output_type": "execute_result",
          "data": {
            "text/plain": [
              "1"
            ]
          },
          "metadata": {},
          "execution_count": 3
        }
      ]
    },
    {
      "cell_type": "code",
      "metadata": {
        "colab": {
          "base_uri": "https://localhost:8080/"
        },
        "id": "XgQPqKevZDXL",
        "outputId": "b10a1044-44d3-40db-ad26-e6226e2f37de"
      },
      "source": [
        "A.shape"
      ],
      "execution_count": 4,
      "outputs": [
        {
          "output_type": "execute_result",
          "data": {
            "text/plain": [
              "(10,)"
            ]
          },
          "metadata": {},
          "execution_count": 4
        }
      ]
    },
    {
      "cell_type": "code",
      "metadata": {
        "colab": {
          "base_uri": "https://localhost:8080/"
        },
        "id": "faKBcKT2ZIHV",
        "outputId": "5af226f3-6df6-4baf-dc89-1885e5e508bf"
      },
      "source": [
        "A.dtype"
      ],
      "execution_count": 5,
      "outputs": [
        {
          "output_type": "execute_result",
          "data": {
            "text/plain": [
              "dtype('int64')"
            ]
          },
          "metadata": {},
          "execution_count": 5
        }
      ]
    },
    {
      "cell_type": "code",
      "metadata": {
        "colab": {
          "base_uri": "https://localhost:8080/"
        },
        "id": "o4XAbGsrZRgv",
        "outputId": "e5f24fba-11c8-41aa-faea-b08acd0465a6"
      },
      "source": [
        "A.size"
      ],
      "execution_count": 6,
      "outputs": [
        {
          "output_type": "execute_result",
          "data": {
            "text/plain": [
              "10"
            ]
          },
          "metadata": {},
          "execution_count": 6
        }
      ]
    },
    {
      "cell_type": "code",
      "metadata": {
        "colab": {
          "base_uri": "https://localhost:8080/"
        },
        "id": "qLlR2ywiZV8d",
        "outputId": "d8633fc5-4f53-4c82-9013-8d4b7850d85e"
      },
      "source": [
        "Y=[[25,30],[35,40],[45,50],[55,60],[65,70]]\n",
        "B=np.array(Y)\n",
        "B"
      ],
      "execution_count": 7,
      "outputs": [
        {
          "output_type": "execute_result",
          "data": {
            "text/plain": [
              "array([[25, 30],\n",
              "       [35, 40],\n",
              "       [45, 50],\n",
              "       [55, 60],\n",
              "       [65, 70]])"
            ]
          },
          "metadata": {},
          "execution_count": 7
        }
      ]
    },
    {
      "cell_type": "code",
      "metadata": {
        "colab": {
          "base_uri": "https://localhost:8080/"
        },
        "id": "KyF13inAZ1k4",
        "outputId": "3bdbee0a-d5e1-4412-8297-ac01057631c4"
      },
      "source": [
        "B.ndim"
      ],
      "execution_count": 8,
      "outputs": [
        {
          "output_type": "execute_result",
          "data": {
            "text/plain": [
              "2"
            ]
          },
          "metadata": {},
          "execution_count": 8
        }
      ]
    },
    {
      "cell_type": "code",
      "metadata": {
        "colab": {
          "base_uri": "https://localhost:8080/"
        },
        "id": "iGm4BySMZ3-M",
        "outputId": "e7c40dda-57d1-4497-f301-b9cf41e92a31"
      },
      "source": [
        "B.size"
      ],
      "execution_count": 9,
      "outputs": [
        {
          "output_type": "execute_result",
          "data": {
            "text/plain": [
              "10"
            ]
          },
          "metadata": {},
          "execution_count": 9
        }
      ]
    },
    {
      "cell_type": "code",
      "metadata": {
        "colab": {
          "base_uri": "https://localhost:8080/"
        },
        "id": "vbFwhlqQZ6C7",
        "outputId": "a2544273-47f1-4dd0-b7d0-6877fa8e88e9"
      },
      "source": [
        "B.shape"
      ],
      "execution_count": 10,
      "outputs": [
        {
          "output_type": "execute_result",
          "data": {
            "text/plain": [
              "(5, 2)"
            ]
          },
          "metadata": {},
          "execution_count": 10
        }
      ]
    },
    {
      "cell_type": "code",
      "metadata": {
        "colab": {
          "base_uri": "https://localhost:8080/"
        },
        "id": "tD3No0XGZ-6v",
        "outputId": "69cd1052-ec29-459e-eeba-180e8679c9be"
      },
      "source": [
        "B.dtype"
      ],
      "execution_count": 11,
      "outputs": [
        {
          "output_type": "execute_result",
          "data": {
            "text/plain": [
              "dtype('int64')"
            ]
          },
          "metadata": {},
          "execution_count": 11
        }
      ]
    },
    {
      "cell_type": "code",
      "metadata": {
        "colab": {
          "base_uri": "https://localhost:8080/"
        },
        "id": "Womvjuj4aChk",
        "outputId": "9a22bf99-e65d-4ca3-ff07-3ba681e5220e"
      },
      "source": [
        "C=np.arange(1,200)\n",
        "C"
      ],
      "execution_count": 13,
      "outputs": [
        {
          "output_type": "execute_result",
          "data": {
            "text/plain": [
              "array([  1,   2,   3,   4,   5,   6,   7,   8,   9,  10,  11,  12,  13,\n",
              "        14,  15,  16,  17,  18,  19,  20,  21,  22,  23,  24,  25,  26,\n",
              "        27,  28,  29,  30,  31,  32,  33,  34,  35,  36,  37,  38,  39,\n",
              "        40,  41,  42,  43,  44,  45,  46,  47,  48,  49,  50,  51,  52,\n",
              "        53,  54,  55,  56,  57,  58,  59,  60,  61,  62,  63,  64,  65,\n",
              "        66,  67,  68,  69,  70,  71,  72,  73,  74,  75,  76,  77,  78,\n",
              "        79,  80,  81,  82,  83,  84,  85,  86,  87,  88,  89,  90,  91,\n",
              "        92,  93,  94,  95,  96,  97,  98,  99, 100, 101, 102, 103, 104,\n",
              "       105, 106, 107, 108, 109, 110, 111, 112, 113, 114, 115, 116, 117,\n",
              "       118, 119, 120, 121, 122, 123, 124, 125, 126, 127, 128, 129, 130,\n",
              "       131, 132, 133, 134, 135, 136, 137, 138, 139, 140, 141, 142, 143,\n",
              "       144, 145, 146, 147, 148, 149, 150, 151, 152, 153, 154, 155, 156,\n",
              "       157, 158, 159, 160, 161, 162, 163, 164, 165, 166, 167, 168, 169,\n",
              "       170, 171, 172, 173, 174, 175, 176, 177, 178, 179, 180, 181, 182,\n",
              "       183, 184, 185, 186, 187, 188, 189, 190, 191, 192, 193, 194, 195,\n",
              "       196, 197, 198, 199])"
            ]
          },
          "metadata": {},
          "execution_count": 13
        }
      ]
    },
    {
      "cell_type": "code",
      "metadata": {
        "colab": {
          "base_uri": "https://localhost:8080/"
        },
        "id": "p8OFBIrjafcb",
        "outputId": "da75c462-0c4d-4cc4-d4cb-30f4df49df58"
      },
      "source": [
        "D=np.arange(1,500,20)\n",
        "D"
      ],
      "execution_count": 14,
      "outputs": [
        {
          "output_type": "execute_result",
          "data": {
            "text/plain": [
              "array([  1,  21,  41,  61,  81, 101, 121, 141, 161, 181, 201, 221, 241,\n",
              "       261, 281, 301, 321, 341, 361, 381, 401, 421, 441, 461, 481])"
            ]
          },
          "metadata": {},
          "execution_count": 14
        }
      ]
    },
    {
      "cell_type": "code",
      "metadata": {
        "colab": {
          "base_uri": "https://localhost:8080/"
        },
        "id": "EQx55fEua3ly",
        "outputId": "6ea5f56d-6c11-4e49-b557-fb02519b0493"
      },
      "source": [
        "E=np.zeros(20)\n",
        "E"
      ],
      "execution_count": 15,
      "outputs": [
        {
          "output_type": "execute_result",
          "data": {
            "text/plain": [
              "array([0., 0., 0., 0., 0., 0., 0., 0., 0., 0., 0., 0., 0., 0., 0., 0., 0.,\n",
              "       0., 0., 0.])"
            ]
          },
          "metadata": {},
          "execution_count": 15
        }
      ]
    },
    {
      "cell_type": "code",
      "metadata": {
        "colab": {
          "base_uri": "https://localhost:8080/"
        },
        "id": "jqnCdswibCNU",
        "outputId": "6db57406-57a5-46ee-bee1-0d874696cae3"
      },
      "source": [
        "F=np.zeros((20,10))\n",
        "F"
      ],
      "execution_count": 18,
      "outputs": [
        {
          "output_type": "execute_result",
          "data": {
            "text/plain": [
              "array([[0., 0., 0., 0., 0., 0., 0., 0., 0., 0.],\n",
              "       [0., 0., 0., 0., 0., 0., 0., 0., 0., 0.],\n",
              "       [0., 0., 0., 0., 0., 0., 0., 0., 0., 0.],\n",
              "       [0., 0., 0., 0., 0., 0., 0., 0., 0., 0.],\n",
              "       [0., 0., 0., 0., 0., 0., 0., 0., 0., 0.],\n",
              "       [0., 0., 0., 0., 0., 0., 0., 0., 0., 0.],\n",
              "       [0., 0., 0., 0., 0., 0., 0., 0., 0., 0.],\n",
              "       [0., 0., 0., 0., 0., 0., 0., 0., 0., 0.],\n",
              "       [0., 0., 0., 0., 0., 0., 0., 0., 0., 0.],\n",
              "       [0., 0., 0., 0., 0., 0., 0., 0., 0., 0.],\n",
              "       [0., 0., 0., 0., 0., 0., 0., 0., 0., 0.],\n",
              "       [0., 0., 0., 0., 0., 0., 0., 0., 0., 0.],\n",
              "       [0., 0., 0., 0., 0., 0., 0., 0., 0., 0.],\n",
              "       [0., 0., 0., 0., 0., 0., 0., 0., 0., 0.],\n",
              "       [0., 0., 0., 0., 0., 0., 0., 0., 0., 0.],\n",
              "       [0., 0., 0., 0., 0., 0., 0., 0., 0., 0.],\n",
              "       [0., 0., 0., 0., 0., 0., 0., 0., 0., 0.],\n",
              "       [0., 0., 0., 0., 0., 0., 0., 0., 0., 0.],\n",
              "       [0., 0., 0., 0., 0., 0., 0., 0., 0., 0.],\n",
              "       [0., 0., 0., 0., 0., 0., 0., 0., 0., 0.]])"
            ]
          },
          "metadata": {},
          "execution_count": 18
        }
      ]
    },
    {
      "cell_type": "code",
      "metadata": {
        "colab": {
          "base_uri": "https://localhost:8080/"
        },
        "id": "BHM5TiU_bVED",
        "outputId": "35138ddd-23bc-4c82-cba3-37153a4c7af0"
      },
      "source": [
        "G=np.ones(20)\n",
        "G"
      ],
      "execution_count": 19,
      "outputs": [
        {
          "output_type": "execute_result",
          "data": {
            "text/plain": [
              "array([1., 1., 1., 1., 1., 1., 1., 1., 1., 1., 1., 1., 1., 1., 1., 1., 1.,\n",
              "       1., 1., 1.])"
            ]
          },
          "metadata": {},
          "execution_count": 19
        }
      ]
    },
    {
      "cell_type": "code",
      "metadata": {
        "colab": {
          "base_uri": "https://localhost:8080/"
        },
        "id": "voeDVtR3bhuD",
        "outputId": "fd92f042-d9e6-4a07-c65c-e6befd8fded3"
      },
      "source": [
        "H=np.ones((10,10))\n",
        "H"
      ],
      "execution_count": 22,
      "outputs": [
        {
          "output_type": "execute_result",
          "data": {
            "text/plain": [
              "array([[1., 1., 1., 1., 1., 1., 1., 1., 1., 1.],\n",
              "       [1., 1., 1., 1., 1., 1., 1., 1., 1., 1.],\n",
              "       [1., 1., 1., 1., 1., 1., 1., 1., 1., 1.],\n",
              "       [1., 1., 1., 1., 1., 1., 1., 1., 1., 1.],\n",
              "       [1., 1., 1., 1., 1., 1., 1., 1., 1., 1.],\n",
              "       [1., 1., 1., 1., 1., 1., 1., 1., 1., 1.],\n",
              "       [1., 1., 1., 1., 1., 1., 1., 1., 1., 1.],\n",
              "       [1., 1., 1., 1., 1., 1., 1., 1., 1., 1.],\n",
              "       [1., 1., 1., 1., 1., 1., 1., 1., 1., 1.],\n",
              "       [1., 1., 1., 1., 1., 1., 1., 1., 1., 1.]])"
            ]
          },
          "metadata": {},
          "execution_count": 22
        }
      ]
    },
    {
      "cell_type": "code",
      "metadata": {
        "colab": {
          "base_uri": "https://localhost:8080/"
        },
        "id": "nlUqoqgYbzzD",
        "outputId": "e66c6d36-a5f9-4baf-a762-f1372ad0dbf8"
      },
      "source": [
        "I=np.eye(10)\n",
        "I"
      ],
      "execution_count": 26,
      "outputs": [
        {
          "output_type": "execute_result",
          "data": {
            "text/plain": [
              "array([[1., 0., 0., 0., 0., 0., 0., 0., 0., 0.],\n",
              "       [0., 1., 0., 0., 0., 0., 0., 0., 0., 0.],\n",
              "       [0., 0., 1., 0., 0., 0., 0., 0., 0., 0.],\n",
              "       [0., 0., 0., 1., 0., 0., 0., 0., 0., 0.],\n",
              "       [0., 0., 0., 0., 1., 0., 0., 0., 0., 0.],\n",
              "       [0., 0., 0., 0., 0., 1., 0., 0., 0., 0.],\n",
              "       [0., 0., 0., 0., 0., 0., 1., 0., 0., 0.],\n",
              "       [0., 0., 0., 0., 0., 0., 0., 1., 0., 0.],\n",
              "       [0., 0., 0., 0., 0., 0., 0., 0., 1., 0.],\n",
              "       [0., 0., 0., 0., 0., 0., 0., 0., 0., 1.]])"
            ]
          },
          "metadata": {},
          "execution_count": 26
        }
      ]
    },
    {
      "cell_type": "code",
      "metadata": {
        "colab": {
          "base_uri": "https://localhost:8080/"
        },
        "id": "m0KTT5MCcFSF",
        "outputId": "418c50c0-89d1-4021-cac7-483cb6098308"
      },
      "source": [
        "J=np.linspace(1,20,25)\n",
        "J"
      ],
      "execution_count": 27,
      "outputs": [
        {
          "output_type": "execute_result",
          "data": {
            "text/plain": [
              "array([ 1.        ,  1.79166667,  2.58333333,  3.375     ,  4.16666667,\n",
              "        4.95833333,  5.75      ,  6.54166667,  7.33333333,  8.125     ,\n",
              "        8.91666667,  9.70833333, 10.5       , 11.29166667, 12.08333333,\n",
              "       12.875     , 13.66666667, 14.45833333, 15.25      , 16.04166667,\n",
              "       16.83333333, 17.625     , 18.41666667, 19.20833333, 20.        ])"
            ]
          },
          "metadata": {},
          "execution_count": 27
        }
      ]
    },
    {
      "cell_type": "code",
      "metadata": {
        "colab": {
          "base_uri": "https://localhost:8080/"
        },
        "id": "IUZxSOqfcQhP",
        "outputId": "fea42a61-19f7-41db-9228-7e2b3881d1f7"
      },
      "source": [
        "K=np.random.rand(50)\n",
        "K"
      ],
      "execution_count": 28,
      "outputs": [
        {
          "output_type": "execute_result",
          "data": {
            "text/plain": [
              "array([0.99976165, 0.89599464, 0.585847  , 0.16224578, 0.19125812,\n",
              "       0.08510319, 0.50164225, 0.18834471, 0.82249382, 0.57954741,\n",
              "       0.21803317, 0.66213507, 0.3292665 , 0.420264  , 0.1723233 ,\n",
              "       0.15412546, 0.32194106, 0.33407396, 0.45304002, 0.19413236,\n",
              "       0.82975651, 0.1944301 , 0.16986402, 0.81513078, 0.17835754,\n",
              "       0.35547051, 0.5569219 , 0.53263505, 0.69893873, 0.83781975,\n",
              "       0.7023023 , 0.5767162 , 0.73658354, 0.16381679, 0.24288757,\n",
              "       0.84812666, 0.49659809, 0.17981947, 0.38590688, 0.45323895,\n",
              "       0.11747514, 0.36502145, 0.01256057, 0.64364681, 0.5125815 ,\n",
              "       0.81930857, 0.73312455, 0.94426429, 0.96879808, 0.72360151])"
            ]
          },
          "metadata": {},
          "execution_count": 28
        }
      ]
    },
    {
      "cell_type": "code",
      "metadata": {
        "colab": {
          "base_uri": "https://localhost:8080/"
        },
        "id": "baSrHWCZctOH",
        "outputId": "62ff358a-18a4-45c1-9085-3d444bea749d"
      },
      "source": [
        "L=np.random.rand(10,15)\n",
        "L"
      ],
      "execution_count": 29,
      "outputs": [
        {
          "output_type": "execute_result",
          "data": {
            "text/plain": [
              "array([[0.35500869, 0.22414874, 0.03283713, 0.79167561, 0.0723468 ,\n",
              "        0.62295424, 0.2504501 , 0.399663  , 0.10733672, 0.60505832,\n",
              "        0.29475532, 0.90726703, 0.47250986, 0.13013462, 0.27478569],\n",
              "       [0.88248646, 0.98321951, 0.28598128, 0.26821361, 0.56596878,\n",
              "        0.0021132 , 0.91732302, 0.29499358, 0.90871668, 0.1359345 ,\n",
              "        0.42881143, 0.40223612, 0.53994395, 0.04811842, 0.50043148],\n",
              "       [0.19350036, 0.68778289, 0.49467345, 0.97776921, 0.71376479,\n",
              "        0.68358534, 0.36629393, 0.07915825, 0.10470031, 0.05223053,\n",
              "        0.39893475, 0.34172655, 0.32274891, 0.97284799, 0.8391329 ],\n",
              "       [0.08430333, 0.38586524, 0.54037008, 0.33478714, 0.74074583,\n",
              "        0.33909612, 0.17007894, 0.99086404, 0.33087508, 0.42566607,\n",
              "        0.45325777, 0.4393563 , 0.37684784, 0.25535314, 0.37793203],\n",
              "       [0.56314855, 0.09215269, 0.42201455, 0.82853545, 0.38161934,\n",
              "        0.10396815, 0.50945434, 0.75011967, 0.62201454, 0.36131433,\n",
              "        0.77856725, 0.38105509, 0.2692525 , 0.72822153, 0.59722339],\n",
              "       [0.77203421, 0.34018775, 0.29947633, 0.88168775, 0.34034234,\n",
              "        0.46001374, 0.29622529, 0.9303574 , 0.08342259, 0.35495346,\n",
              "        0.86155924, 0.92963305, 0.15134637, 0.5389138 , 0.41726638],\n",
              "       [0.10159151, 0.05721773, 0.41017905, 0.00588313, 0.27241939,\n",
              "        0.27765898, 0.54789478, 0.90630344, 0.567332  , 0.82109868,\n",
              "        0.83112478, 0.96695508, 0.07681046, 0.40716847, 0.61731949],\n",
              "       [0.71465759, 0.79931607, 0.51207672, 0.9927176 , 0.84646581,\n",
              "        0.6498705 , 0.45619264, 0.65158857, 0.7506914 , 0.75289556,\n",
              "        0.57507702, 0.36265342, 0.58309337, 0.01294059, 0.59927938],\n",
              "       [0.83255005, 0.57620097, 0.48468496, 0.97060718, 0.19771398,\n",
              "        0.95360451, 0.3063549 , 0.9757081 , 0.79920241, 0.54043173,\n",
              "        0.13526306, 0.3814481 , 0.45279278, 0.28171773, 0.93382102],\n",
              "       [0.96993439, 0.38880681, 0.30591899, 0.09278826, 0.40830537,\n",
              "        0.96975673, 0.32525657, 0.62993174, 0.8569519 , 0.95414086,\n",
              "        0.89488333, 0.69044236, 0.14897066, 0.86739317, 0.74374497]])"
            ]
          },
          "metadata": {},
          "execution_count": 29
        }
      ]
    },
    {
      "cell_type": "code",
      "metadata": {
        "colab": {
          "base_uri": "https://localhost:8080/"
        },
        "id": "-dGHXzX3c-wg",
        "outputId": "194c3c45-b4a3-40bb-98ea-00070bbed197"
      },
      "source": [
        "M=np.random.randn(10)\n",
        "M"
      ],
      "execution_count": 30,
      "outputs": [
        {
          "output_type": "execute_result",
          "data": {
            "text/plain": [
              "array([-0.40931118, -0.15896146, -0.69974333, -0.10240674,  0.51732556,\n",
              "        0.03510571,  1.87454055,  0.8781123 , -1.07635269, -0.24231367])"
            ]
          },
          "metadata": {},
          "execution_count": 30
        }
      ]
    },
    {
      "cell_type": "code",
      "metadata": {
        "colab": {
          "base_uri": "https://localhost:8080/"
        },
        "id": "zhgva-gjdFZZ",
        "outputId": "c6babc52-5e5a-4cb8-dfa9-b2126e4e339c"
      },
      "source": [
        "N=np.random.randn(5,10)\n",
        "N"
      ],
      "execution_count": 31,
      "outputs": [
        {
          "output_type": "execute_result",
          "data": {
            "text/plain": [
              "array([[-0.98201623,  0.37088343,  0.69814552, -0.82550768,  1.61171144,\n",
              "        -0.92706672, -0.47777159,  1.47519149, -2.24430453, -0.8719536 ],\n",
              "       [ 1.21059416,  0.84873094, -0.69830592,  0.03088446, -0.65138731,\n",
              "         1.658642  , -2.64790739,  0.63446416, -0.25109841, -0.89587096],\n",
              "       [ 0.19516178, -1.08726017,  0.15879719,  0.77577921,  0.34822155,\n",
              "         1.94850742,  0.71811737,  0.24694465, -1.74433725,  0.51397267],\n",
              "       [-0.23442213, -0.33877395,  1.56467464,  0.58548004,  0.65708048,\n",
              "        -0.11188485,  0.57797702, -0.95480416,  2.11210836, -1.3805552 ],\n",
              "       [-1.07835583,  2.40937635, -0.8433604 , -0.5871317 ,  0.58075845,\n",
              "        -1.64830318, -1.28750138, -0.62407869, -0.38443535,  0.6757568 ]])"
            ]
          },
          "metadata": {},
          "execution_count": 31
        }
      ]
    },
    {
      "cell_type": "code",
      "metadata": {
        "colab": {
          "base_uri": "https://localhost:8080/"
        },
        "id": "45HUg8hFdXb8",
        "outputId": "94759b61-eb22-4ca2-9c8b-210eca642750"
      },
      "source": [
        "O=np.random.randint(5,10)\n",
        "O"
      ],
      "execution_count": 34,
      "outputs": [
        {
          "output_type": "execute_result",
          "data": {
            "text/plain": [
              "7"
            ]
          },
          "metadata": {},
          "execution_count": 34
        }
      ]
    },
    {
      "cell_type": "code",
      "metadata": {
        "colab": {
          "base_uri": "https://localhost:8080/"
        },
        "id": "3vVqUC9tdnX0",
        "outputId": "146f5125-9e1d-46e9-8d27-f126a2b62b8f"
      },
      "source": [
        "P=np.random.randint(5,500,36)\n",
        "P.ndim\n",
        "P.size"
      ],
      "execution_count": 68,
      "outputs": [
        {
          "output_type": "execute_result",
          "data": {
            "text/plain": [
              "36"
            ]
          },
          "metadata": {},
          "execution_count": 68
        }
      ]
    },
    {
      "cell_type": "code",
      "metadata": {
        "colab": {
          "base_uri": "https://localhost:8080/"
        },
        "id": "jVfCqAMretaT",
        "outputId": "1700ebea-89ff-43fa-bb03-f67f1e792f5f"
      },
      "source": [
        "P.reshape(4,9)"
      ],
      "execution_count": 70,
      "outputs": [
        {
          "output_type": "execute_result",
          "data": {
            "text/plain": [
              "array([[ 90,  95, 191,  34, 451, 371,  99, 432, 492],\n",
              "       [493, 489, 333,  67, 171,  14, 211, 250, 135],\n",
              "       [163, 497, 382, 393, 373, 255, 288, 241, 111],\n",
              "       [280,  37, 303, 282, 205, 248, 361,  37, 392]])"
            ]
          },
          "metadata": {},
          "execution_count": 70
        }
      ]
    },
    {
      "cell_type": "code",
      "metadata": {
        "colab": {
          "base_uri": "https://localhost:8080/"
        },
        "id": "44WapfQ8hDOC",
        "outputId": "9138cdeb-0b56-4c36-c428-963673458fe6"
      },
      "source": [
        "Q=np.random.randint(1,250,50)\n",
        "Q"
      ],
      "execution_count": 71,
      "outputs": [
        {
          "output_type": "execute_result",
          "data": {
            "text/plain": [
              "array([131, 157, 129, 101, 208, 193, 107, 180,  29, 121, 186, 140, 108,\n",
              "        20,  34,  71, 122,  13,   8, 180,  80,  75, 198, 177, 197, 200,\n",
              "       136, 203, 122,  75, 139,  60, 178,  67, 133,  32, 122,  28,  57,\n",
              "       191, 199,  27, 228, 212,  60, 144, 187, 114,  37, 105])"
            ]
          },
          "metadata": {},
          "execution_count": 71
        }
      ]
    },
    {
      "cell_type": "code",
      "metadata": {
        "colab": {
          "base_uri": "https://localhost:8080/"
        },
        "id": "AmucCQOrhMpv",
        "outputId": "17ec6bf3-3833-4a16-aefe-ce46ec3c72be"
      },
      "source": [
        "Q.max()"
      ],
      "execution_count": 73,
      "outputs": [
        {
          "output_type": "execute_result",
          "data": {
            "text/plain": [
              "228"
            ]
          },
          "metadata": {},
          "execution_count": 73
        }
      ]
    },
    {
      "cell_type": "code",
      "metadata": {
        "colab": {
          "base_uri": "https://localhost:8080/"
        },
        "id": "L8VbMfclhS4U",
        "outputId": "3fa0deee-442a-4648-beec-6a619b0c3cef"
      },
      "source": [
        "Q.min()"
      ],
      "execution_count": 74,
      "outputs": [
        {
          "output_type": "execute_result",
          "data": {
            "text/plain": [
              "8"
            ]
          },
          "metadata": {},
          "execution_count": 74
        }
      ]
    },
    {
      "cell_type": "code",
      "metadata": {
        "colab": {
          "base_uri": "https://localhost:8080/"
        },
        "id": "SqSSCUjLhUv5",
        "outputId": "5e6a3dbf-272f-4610-eef7-c817bd6f6954"
      },
      "source": [
        "Q.argmax()"
      ],
      "execution_count": 75,
      "outputs": [
        {
          "output_type": "execute_result",
          "data": {
            "text/plain": [
              "42"
            ]
          },
          "metadata": {},
          "execution_count": 75
        }
      ]
    },
    {
      "cell_type": "code",
      "metadata": {
        "colab": {
          "base_uri": "https://localhost:8080/"
        },
        "id": "7tUapB5Vhhvb",
        "outputId": "58fb1308-f2b0-47a1-c670-4ed533afbd12"
      },
      "source": [
        "Q.argmin()"
      ],
      "execution_count": 76,
      "outputs": [
        {
          "output_type": "execute_result",
          "data": {
            "text/plain": [
              "18"
            ]
          },
          "metadata": {},
          "execution_count": 76
        }
      ]
    },
    {
      "cell_type": "code",
      "metadata": {
        "colab": {
          "base_uri": "https://localhost:8080/"
        },
        "id": "FJ9eMjzckuor",
        "outputId": "3940dea3-9530-4bfd-ae2e-9c20e8df8c31"
      },
      "source": [
        "A1=np.random.randint(10,50,size=8)\n",
        "A1"
      ],
      "execution_count": 78,
      "outputs": [
        {
          "output_type": "execute_result",
          "data": {
            "text/plain": [
              "array([41, 28, 32, 38, 45, 12, 41, 20])"
            ]
          },
          "metadata": {},
          "execution_count": 78
        }
      ]
    },
    {
      "cell_type": "code",
      "metadata": {
        "colab": {
          "base_uri": "https://localhost:8080/"
        },
        "id": "8rXaAcwI2cPx",
        "outputId": "7f9efb5a-9ead-4b55-9414-debd886e3ef2"
      },
      "source": [
        "A2=np.random.randint(15,25,size=30).reshape(3,10)\n",
        "A2"
      ],
      "execution_count": 82,
      "outputs": [
        {
          "output_type": "execute_result",
          "data": {
            "text/plain": [
              "array([[20, 20, 15, 22, 16, 18, 17, 17, 24, 24],\n",
              "       [21, 15, 21, 15, 17, 24, 20, 18, 22, 21],\n",
              "       [22, 15, 17, 23, 20, 15, 20, 20, 20, 17]])"
            ]
          },
          "metadata": {},
          "execution_count": 82
        }
      ]
    },
    {
      "cell_type": "code",
      "metadata": {
        "colab": {
          "base_uri": "https://localhost:8080/"
        },
        "id": "3jMVoWnh24r0",
        "outputId": "2ed21c0c-8f71-4e0a-b078-1f450621ef43"
      },
      "source": [
        "A1[0]"
      ],
      "execution_count": 83,
      "outputs": [
        {
          "output_type": "execute_result",
          "data": {
            "text/plain": [
              "41"
            ]
          },
          "metadata": {},
          "execution_count": 83
        }
      ]
    },
    {
      "cell_type": "code",
      "metadata": {
        "colab": {
          "base_uri": "https://localhost:8080/"
        },
        "id": "-7c8Gkan2_Tt",
        "outputId": "c66a92c8-1558-4f90-fed7-c18aae892e20"
      },
      "source": [
        "A1[3]"
      ],
      "execution_count": 84,
      "outputs": [
        {
          "output_type": "execute_result",
          "data": {
            "text/plain": [
              "38"
            ]
          },
          "metadata": {},
          "execution_count": 84
        }
      ]
    },
    {
      "cell_type": "code",
      "metadata": {
        "colab": {
          "base_uri": "https://localhost:8080/"
        },
        "id": "NvF6Z5Sn3FVX",
        "outputId": "61f9865b-98c2-41b7-fdb5-799f6477ad44"
      },
      "source": [
        "A1[:3]"
      ],
      "execution_count": 86,
      "outputs": [
        {
          "output_type": "execute_result",
          "data": {
            "text/plain": [
              "array([41, 28, 32])"
            ]
          },
          "metadata": {},
          "execution_count": 86
        }
      ]
    },
    {
      "cell_type": "code",
      "metadata": {
        "colab": {
          "base_uri": "https://localhost:8080/"
        },
        "id": "X3I4gCzj3QdY",
        "outputId": "2d301415-9e6d-46d6-8cee-2c663637dd9b"
      },
      "source": [
        "A1[2:]"
      ],
      "execution_count": 87,
      "outputs": [
        {
          "output_type": "execute_result",
          "data": {
            "text/plain": [
              "array([32, 38, 45, 12, 41, 20])"
            ]
          },
          "metadata": {},
          "execution_count": 87
        }
      ]
    },
    {
      "cell_type": "code",
      "metadata": {
        "colab": {
          "base_uri": "https://localhost:8080/"
        },
        "id": "hOiat9k93Xra",
        "outputId": "194c1772-db66-42db-8433-5a8ae6c9695c"
      },
      "source": [
        "A1[2:5]"
      ],
      "execution_count": 88,
      "outputs": [
        {
          "output_type": "execute_result",
          "data": {
            "text/plain": [
              "array([32, 38, 45])"
            ]
          },
          "metadata": {},
          "execution_count": 88
        }
      ]
    },
    {
      "cell_type": "code",
      "metadata": {
        "colab": {
          "base_uri": "https://localhost:8080/"
        },
        "id": "f5jSKYKR3dyk",
        "outputId": "3394cafc-699d-4b13-d266-872f6c2ac9fd"
      },
      "source": [
        "A1[-1]"
      ],
      "execution_count": 89,
      "outputs": [
        {
          "output_type": "execute_result",
          "data": {
            "text/plain": [
              "20"
            ]
          },
          "metadata": {},
          "execution_count": 89
        }
      ]
    },
    {
      "cell_type": "code",
      "metadata": {
        "colab": {
          "base_uri": "https://localhost:8080/"
        },
        "id": "n5Fol4OE3d7C",
        "outputId": "52cd15fd-d3a6-49b3-dd8c-b2b9f92a8f88"
      },
      "source": [
        "A1[:]"
      ],
      "execution_count": 90,
      "outputs": [
        {
          "output_type": "execute_result",
          "data": {
            "text/plain": [
              "array([41, 28, 32, 38, 45, 12, 41, 20])"
            ]
          },
          "metadata": {},
          "execution_count": 90
        }
      ]
    },
    {
      "cell_type": "code",
      "metadata": {
        "colab": {
          "base_uri": "https://localhost:8080/"
        },
        "id": "8O3znl3m3m1e",
        "outputId": "15340adc-912d-4b24-f94b-f2ebe3306c31"
      },
      "source": [
        "A2[0,0]"
      ],
      "execution_count": 92,
      "outputs": [
        {
          "output_type": "execute_result",
          "data": {
            "text/plain": [
              "20"
            ]
          },
          "metadata": {},
          "execution_count": 92
        }
      ]
    },
    {
      "cell_type": "code",
      "metadata": {
        "colab": {
          "base_uri": "https://localhost:8080/"
        },
        "id": "sYIneVcU3vaH",
        "outputId": "e656713e-57ba-4b4f-a9bb-2175d39b2116"
      },
      "source": [
        "A2[0][0]"
      ],
      "execution_count": 94,
      "outputs": [
        {
          "output_type": "execute_result",
          "data": {
            "text/plain": [
              "20"
            ]
          },
          "metadata": {},
          "execution_count": 94
        }
      ]
    },
    {
      "cell_type": "code",
      "metadata": {
        "colab": {
          "base_uri": "https://localhost:8080/"
        },
        "id": "u8QIBJZG31IW",
        "outputId": "e6453c63-d7f3-4ea2-9c00-f6a0879dbb43"
      },
      "source": [
        "A2[1]"
      ],
      "execution_count": 95,
      "outputs": [
        {
          "output_type": "execute_result",
          "data": {
            "text/plain": [
              "array([21, 15, 21, 15, 17, 24, 20, 18, 22, 21])"
            ]
          },
          "metadata": {},
          "execution_count": 95
        }
      ]
    },
    {
      "cell_type": "code",
      "metadata": {
        "colab": {
          "base_uri": "https://localhost:8080/"
        },
        "id": "w0zoLt6c39_1",
        "outputId": "51c3a93f-f99d-4b34-ed17-f8c6c99078fc"
      },
      "source": [
        "A2[:,1]"
      ],
      "execution_count": 97,
      "outputs": [
        {
          "output_type": "execute_result",
          "data": {
            "text/plain": [
              "array([20, 15, 15])"
            ]
          },
          "metadata": {},
          "execution_count": 97
        }
      ]
    },
    {
      "cell_type": "code",
      "metadata": {
        "colab": {
          "base_uri": "https://localhost:8080/"
        },
        "id": "GVnavp1G4JfV",
        "outputId": "3a8503ab-aa69-42d4-8caf-23dc3f7c7946"
      },
      "source": [
        "A2[:,2]"
      ],
      "execution_count": 98,
      "outputs": [
        {
          "output_type": "execute_result",
          "data": {
            "text/plain": [
              "array([15, 21, 17])"
            ]
          },
          "metadata": {},
          "execution_count": 98
        }
      ]
    },
    {
      "cell_type": "code",
      "metadata": {
        "colab": {
          "base_uri": "https://localhost:8080/"
        },
        "id": "N81rJ7Gw4Xq_",
        "outputId": "b491b64e-7580-40e7-ebc1-41e0b69afc43"
      },
      "source": [
        "A2[0:5,6:8]"
      ],
      "execution_count": 101,
      "outputs": [
        {
          "output_type": "execute_result",
          "data": {
            "text/plain": [
              "array([[17, 17],\n",
              "       [20, 18],\n",
              "       [20, 20]])"
            ]
          },
          "metadata": {},
          "execution_count": 101
        }
      ]
    },
    {
      "cell_type": "code",
      "metadata": {
        "colab": {
          "base_uri": "https://localhost:8080/"
        },
        "id": "Ns2eHwYY67zc",
        "outputId": "dddb65e6-955a-4719-e807-0796b5863437"
      },
      "source": [
        "A2_subset=A2[0:5,6:8]\n",
        "A2_subset"
      ],
      "execution_count": 102,
      "outputs": [
        {
          "output_type": "execute_result",
          "data": {
            "text/plain": [
              "array([[17, 17],\n",
              "       [20, 18],\n",
              "       [20, 20]])"
            ]
          },
          "metadata": {},
          "execution_count": 102
        }
      ]
    },
    {
      "cell_type": "code",
      "metadata": {
        "colab": {
          "base_uri": "https://localhost:8080/"
        },
        "id": "sYfKG8kB7VNy",
        "outputId": "0e92b146-ab3f-4c03-d4b9-bcaf2e47115c"
      },
      "source": [
        "A2_subset[:,:]=222\n",
        "A2_subset"
      ],
      "execution_count": 103,
      "outputs": [
        {
          "output_type": "execute_result",
          "data": {
            "text/plain": [
              "array([[222, 222],\n",
              "       [222, 222],\n",
              "       [222, 222]])"
            ]
          },
          "metadata": {},
          "execution_count": 103
        }
      ]
    },
    {
      "cell_type": "code",
      "metadata": {
        "colab": {
          "base_uri": "https://localhost:8080/"
        },
        "id": "gZ8xAr-a7eOu",
        "outputId": "72ae73ea-02c7-46c2-e152-0abf0a8ac593"
      },
      "source": [
        "A3_subset=A2_subset.copy()\n",
        "A3_subset"
      ],
      "execution_count": 106,
      "outputs": [
        {
          "output_type": "execute_result",
          "data": {
            "text/plain": [
              "array([[222, 222],\n",
              "       [222, 222],\n",
              "       [222, 222]])"
            ]
          },
          "metadata": {},
          "execution_count": 106
        }
      ]
    },
    {
      "cell_type": "code",
      "metadata": {
        "colab": {
          "base_uri": "https://localhost:8080/"
        },
        "id": "yei5Wq007uTg",
        "outputId": "336816be-6a78-4eb8-bbe5-915a54963e81"
      },
      "source": [
        "A3_subset[:,:]=0.1\n",
        "A2_subset"
      ],
      "execution_count": 108,
      "outputs": [
        {
          "output_type": "execute_result",
          "data": {
            "text/plain": [
              "array([[222, 222],\n",
              "       [222, 222],\n",
              "       [222, 222]])"
            ]
          },
          "metadata": {},
          "execution_count": 108
        }
      ]
    },
    {
      "cell_type": "code",
      "metadata": {
        "colab": {
          "base_uri": "https://localhost:8080/"
        },
        "id": "zDFN0tcm8GDu",
        "outputId": "cb6a1672-bef9-43d3-a7a4-005972fd3dc9"
      },
      "source": [
        "A1"
      ],
      "execution_count": 109,
      "outputs": [
        {
          "output_type": "execute_result",
          "data": {
            "text/plain": [
              "array([41, 28, 32, 38, 45, 12, 41, 20])"
            ]
          },
          "metadata": {},
          "execution_count": 109
        }
      ]
    },
    {
      "cell_type": "code",
      "metadata": {
        "colab": {
          "base_uri": "https://localhost:8080/"
        },
        "id": "tKzmE-Yu8KwY",
        "outputId": "d81ae4e0-e760-4538-ccb1-c5b3d7a6d52a"
      },
      "source": [
        "A1>12"
      ],
      "execution_count": 110,
      "outputs": [
        {
          "output_type": "execute_result",
          "data": {
            "text/plain": [
              "array([ True,  True,  True,  True,  True, False,  True,  True])"
            ]
          },
          "metadata": {},
          "execution_count": 110
        }
      ]
    },
    {
      "cell_type": "code",
      "metadata": {
        "colab": {
          "base_uri": "https://localhost:8080/"
        },
        "id": "XXAwKM0l8OuI",
        "outputId": "9acf6123-8e60-4259-f89e-df57fc2a4845"
      },
      "source": [
        "A1<20"
      ],
      "execution_count": 111,
      "outputs": [
        {
          "output_type": "execute_result",
          "data": {
            "text/plain": [
              "array([False, False, False, False, False,  True, False, False])"
            ]
          },
          "metadata": {},
          "execution_count": 111
        }
      ]
    },
    {
      "cell_type": "code",
      "metadata": {
        "colab": {
          "base_uri": "https://localhost:8080/"
        },
        "id": "6Gu1okM28U4H",
        "outputId": "e882bad6-5737-47b9-88c9-5e871fd36104"
      },
      "source": [
        "A1[A1>12]"
      ],
      "execution_count": 112,
      "outputs": [
        {
          "output_type": "execute_result",
          "data": {
            "text/plain": [
              "array([41, 28, 32, 38, 45, 41, 20])"
            ]
          },
          "metadata": {},
          "execution_count": 112
        }
      ]
    },
    {
      "cell_type": "code",
      "metadata": {
        "colab": {
          "base_uri": "https://localhost:8080/"
        },
        "id": "5ZzJS0lW8Y2z",
        "outputId": "7575bf01-1f01-4f7c-ee1c-8e03d6df700a"
      },
      "source": [
        "A1[A1<20]"
      ],
      "execution_count": 113,
      "outputs": [
        {
          "output_type": "execute_result",
          "data": {
            "text/plain": [
              "array([12])"
            ]
          },
          "metadata": {},
          "execution_count": 113
        }
      ]
    },
    {
      "cell_type": "code",
      "metadata": {
        "colab": {
          "base_uri": "https://localhost:8080/"
        },
        "id": "mDyiw_LH8k5J",
        "outputId": "35478c5f-96f0-45d6-8400-9acf68751da7"
      },
      "source": [
        "A1[(A1>12)&(A1<25)]"
      ],
      "execution_count": 114,
      "outputs": [
        {
          "output_type": "execute_result",
          "data": {
            "text/plain": [
              "array([20])"
            ]
          },
          "metadata": {},
          "execution_count": 114
        }
      ]
    }
  ]
}