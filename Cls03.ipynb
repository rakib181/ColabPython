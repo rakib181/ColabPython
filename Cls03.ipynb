{
  "nbformat": 4,
  "nbformat_minor": 0,
  "metadata": {
    "colab": {
      "name": "Cls03.ipynb",
      "provenance": [],
      "collapsed_sections": [],
      "authorship_tag": "ABX9TyMnBud/mACav3nMAi+JQBHk",
      "include_colab_link": true
    },
    "kernelspec": {
      "name": "python3",
      "display_name": "Python 3"
    },
    "language_info": {
      "name": "python"
    }
  },
  "cells": [
    {
      "cell_type": "markdown",
      "metadata": {
        "id": "view-in-github",
        "colab_type": "text"
      },
      "source": [
        "<a href=\"https://colab.research.google.com/github/rakib181/heisenberg/blob/main/Cls03.ipynb\" target=\"_parent\"><img src=\"https://colab.research.google.com/assets/colab-badge.svg\" alt=\"Open In Colab\"/></a>"
      ]
    },
    {
      "cell_type": "markdown",
      "metadata": {
        "id": "x-plFoCdr-XX"
      },
      "source": [
        "F String"
      ]
    },
    {
      "cell_type": "code",
      "metadata": {
        "colab": {
          "base_uri": "https://localhost:8080/"
        },
        "id": "CJXm9J6drzbJ",
        "outputId": "3a406486-a50e-4f15-fd0c-a187fdd57482"
      },
      "source": [
        "name='HEISENBERG'\n",
        "print(f'HELLO {name}')\n",
        "print(f'HELLO {name} {name} {name}')\n",
        "print(f'HELLO {name} {100+50} { name*5}')\n",
        "print(f'HELLO {name} {[10,20,30,40]}')\n",
        "x=f'HELLO {name} {[10,20,30,40]*5}'\n",
        "print(x)\n"
      ],
      "execution_count": 44,
      "outputs": [
        {
          "output_type": "stream",
          "text": [
            "HELLO HEISENBERG\n",
            "HELLO HEISENBERG HEISENBERG HEISENBERG\n",
            "HELLO HEISENBERG 150 HEISENBERGHEISENBERGHEISENBERGHEISENBERGHEISENBERG\n",
            "HELLO HEISENBERG [10, 20, 30, 40]\n",
            "HELLO HEISENBERG [10, 20, 30, 40, 10, 20, 30, 40, 10, 20, 30, 40, 10, 20, 30, 40, 10, 20, 30, 40]\n"
          ],
          "name": "stdout"
        }
      ]
    },
    {
      "cell_type": "markdown",
      "metadata": {
        "id": "_onesZJWt3mV"
      },
      "source": [
        "Pack And Unpack Or Broadcasting"
      ]
    },
    {
      "cell_type": "code",
      "metadata": {
        "colab": {
          "base_uri": "https://localhost:8080/"
        },
        "id": "B85lXDQmuAFG",
        "outputId": "e7343b70-0282-4b9c-a0fe-0747f4606fa4"
      },
      "source": [
        "my_tuple=[25,30,35,40,45]\n",
        "my_list=[5,8,5,6,3]\n",
        "my_dict={\"a\":5,\"b\":8,\"c\":3,\"d\":9,\"e\":7}\n",
        "\n",
        "x=my_tuple[0]\n",
        "y=my_tuple[1]\n",
        "z=my_tuple[2]\n",
        "p=my_tuple[3]\n",
        "q=my_tuple[4]\n",
        "print(x,y,z,p,q)\n",
        "\n",
        "x,y,z,p,q=my_tuple\n",
        "print(x,y,z,p,q)\n",
        "x,y,z,p,q=my_list\n",
        "print(x,y,z,p,q)\n",
        "x,y,z,p,q=my_dict.values()\n",
        "print(x,y,z,p,q)\n",
        "x,y,z,p,q=my_dict.keys()\n",
        "print(x,y,z,p,q)\n"
      ],
      "execution_count": 33,
      "outputs": [
        {
          "output_type": "stream",
          "text": [
            "25 30 35 40 45\n",
            "25 30 35 40 45\n",
            "5 8 5 6 3\n",
            "5 8 3 9 7\n",
            "a b c d e\n"
          ],
          "name": "stdout"
        }
      ]
    },
    {
      "cell_type": "markdown",
      "metadata": {
        "id": "2LLRRauPzk3o"
      },
      "source": [
        "Smart Interchange"
      ]
    },
    {
      "cell_type": "code",
      "metadata": {
        "colab": {
          "base_uri": "https://localhost:8080/"
        },
        "id": "YmGnVhJPzn2r",
        "outputId": "176564c5-7e06-4f42-e553-070399a4f234"
      },
      "source": [
        "width,height=500,700\n",
        "width,height=height,width\n",
        "print(width,height)"
      ],
      "execution_count": 35,
      "outputs": [
        {
          "output_type": "stream",
          "text": [
            "700 500\n"
          ],
          "name": "stdout"
        }
      ]
    },
    {
      "cell_type": "markdown",
      "metadata": {
        "id": "tNPelmFj0QUR"
      },
      "source": [
        "List Comprihension"
      ]
    },
    {
      "cell_type": "code",
      "metadata": {
        "colab": {
          "base_uri": "https://localhost:8080/"
        },
        "id": "3tBgBxql0UGh",
        "outputId": "88757af6-33c2-4448-cc28-b9c627e76544"
      },
      "source": [
        "x=[i for i in range(500)]\n",
        "print(x)\n",
        "z=[i*j for i in range (10) for j in range (10)]\n",
        "print(z)"
      ],
      "execution_count": 39,
      "outputs": [
        {
          "output_type": "stream",
          "text": [
            "[0, 1, 2, 3, 4, 5, 6, 7, 8, 9, 10, 11, 12, 13, 14, 15, 16, 17, 18, 19, 20, 21, 22, 23, 24, 25, 26, 27, 28, 29, 30, 31, 32, 33, 34, 35, 36, 37, 38, 39, 40, 41, 42, 43, 44, 45, 46, 47, 48, 49, 50, 51, 52, 53, 54, 55, 56, 57, 58, 59, 60, 61, 62, 63, 64, 65, 66, 67, 68, 69, 70, 71, 72, 73, 74, 75, 76, 77, 78, 79, 80, 81, 82, 83, 84, 85, 86, 87, 88, 89, 90, 91, 92, 93, 94, 95, 96, 97, 98, 99, 100, 101, 102, 103, 104, 105, 106, 107, 108, 109, 110, 111, 112, 113, 114, 115, 116, 117, 118, 119, 120, 121, 122, 123, 124, 125, 126, 127, 128, 129, 130, 131, 132, 133, 134, 135, 136, 137, 138, 139, 140, 141, 142, 143, 144, 145, 146, 147, 148, 149, 150, 151, 152, 153, 154, 155, 156, 157, 158, 159, 160, 161, 162, 163, 164, 165, 166, 167, 168, 169, 170, 171, 172, 173, 174, 175, 176, 177, 178, 179, 180, 181, 182, 183, 184, 185, 186, 187, 188, 189, 190, 191, 192, 193, 194, 195, 196, 197, 198, 199, 200, 201, 202, 203, 204, 205, 206, 207, 208, 209, 210, 211, 212, 213, 214, 215, 216, 217, 218, 219, 220, 221, 222, 223, 224, 225, 226, 227, 228, 229, 230, 231, 232, 233, 234, 235, 236, 237, 238, 239, 240, 241, 242, 243, 244, 245, 246, 247, 248, 249, 250, 251, 252, 253, 254, 255, 256, 257, 258, 259, 260, 261, 262, 263, 264, 265, 266, 267, 268, 269, 270, 271, 272, 273, 274, 275, 276, 277, 278, 279, 280, 281, 282, 283, 284, 285, 286, 287, 288, 289, 290, 291, 292, 293, 294, 295, 296, 297, 298, 299, 300, 301, 302, 303, 304, 305, 306, 307, 308, 309, 310, 311, 312, 313, 314, 315, 316, 317, 318, 319, 320, 321, 322, 323, 324, 325, 326, 327, 328, 329, 330, 331, 332, 333, 334, 335, 336, 337, 338, 339, 340, 341, 342, 343, 344, 345, 346, 347, 348, 349, 350, 351, 352, 353, 354, 355, 356, 357, 358, 359, 360, 361, 362, 363, 364, 365, 366, 367, 368, 369, 370, 371, 372, 373, 374, 375, 376, 377, 378, 379, 380, 381, 382, 383, 384, 385, 386, 387, 388, 389, 390, 391, 392, 393, 394, 395, 396, 397, 398, 399, 400, 401, 402, 403, 404, 405, 406, 407, 408, 409, 410, 411, 412, 413, 414, 415, 416, 417, 418, 419, 420, 421, 422, 423, 424, 425, 426, 427, 428, 429, 430, 431, 432, 433, 434, 435, 436, 437, 438, 439, 440, 441, 442, 443, 444, 445, 446, 447, 448, 449, 450, 451, 452, 453, 454, 455, 456, 457, 458, 459, 460, 461, 462, 463, 464, 465, 466, 467, 468, 469, 470, 471, 472, 473, 474, 475, 476, 477, 478, 479, 480, 481, 482, 483, 484, 485, 486, 487, 488, 489, 490, 491, 492, 493, 494, 495, 496, 497, 498, 499]\n",
            "[0, 0, 0, 0, 0, 0, 0, 0, 0, 0, 0, 1, 2, 3, 4, 5, 6, 7, 8, 9, 0, 2, 4, 6, 8, 10, 12, 14, 16, 18, 0, 3, 6, 9, 12, 15, 18, 21, 24, 27, 0, 4, 8, 12, 16, 20, 24, 28, 32, 36, 0, 5, 10, 15, 20, 25, 30, 35, 40, 45, 0, 6, 12, 18, 24, 30, 36, 42, 48, 54, 0, 7, 14, 21, 28, 35, 42, 49, 56, 63, 0, 8, 16, 24, 32, 40, 48, 56, 64, 72, 0, 9, 18, 27, 36, 45, 54, 63, 72, 81]\n"
          ],
          "name": "stdout"
        }
      ]
    },
    {
      "cell_type": "markdown",
      "metadata": {
        "id": "34_LAt1m1Yst"
      },
      "source": [
        "Object Multiplication"
      ]
    },
    {
      "cell_type": "code",
      "metadata": {
        "colab": {
          "base_uri": "https://localhost:8080/"
        },
        "id": "CAuoLmSd1cCE",
        "outputId": "ddb204d2-45a5-40ab-9885-dc0cef9726ec"
      },
      "source": [
        "x=' HELLO'*5\n",
        "print(x)\n",
        "x=[10,20,30,40,50]*5\n",
        "print(x)\n",
        "x=[[10,20,30,40,50]]*5\n",
        "print(x)\n",
        "x=(10,50)*5\n",
        "print(x)"
      ],
      "execution_count": 50,
      "outputs": [
        {
          "output_type": "stream",
          "text": [
            " HELLO HELLO HELLO HELLO HELLO\n",
            "[10, 20, 30, 40, 50, 10, 20, 30, 40, 50, 10, 20, 30, 40, 50, 10, 20, 30, 40, 50, 10, 20, 30, 40, 50]\n",
            "[[10, 20, 30, 40, 50], [10, 20, 30, 40, 50], [10, 20, 30, 40, 50], [10, 20, 30, 40, 50], [10, 20, 30, 40, 50]]\n",
            "(10, 50, 10, 50, 10, 50, 10, 50, 10, 50)\n"
          ],
          "name": "stdout"
        }
      ]
    },
    {
      "cell_type": "markdown",
      "metadata": {
        "id": "dZV-NMc33GnH"
      },
      "source": [
        "Smart If"
      ]
    },
    {
      "cell_type": "code",
      "metadata": {
        "colab": {
          "base_uri": "https://localhost:8080/"
        },
        "id": "5BePLmTi3Ijb",
        "outputId": "49cb770d-baa2-40bc-b321-81a3d9cfdd61"
      },
      "source": [
        "if 2>3 :\n",
        "    x=1\n",
        "else: \n",
        "    x=0\n",
        "print(x)\n",
        "\n",
        "x=1 if 2>3 else 0\n",
        "print(x)"
      ],
      "execution_count": 59,
      "outputs": [
        {
          "output_type": "stream",
          "text": [
            "0\n",
            "0\n"
          ],
          "name": "stdout"
        }
      ]
    },
    {
      "cell_type": "markdown",
      "metadata": {
        "id": "v3qsdcqD4VC5"
      },
      "source": [
        "Smart Merge"
      ]
    },
    {
      "cell_type": "code",
      "metadata": {
        "colab": {
          "base_uri": "https://localhost:8080/"
        },
        "id": "1LW7es3X4X7N",
        "outputId": "28812394-a686-4adf-c361-58013e9519e8"
      },
      "source": [
        "names=['Daraz','Ajkerbazar','Evaly','Chaldal','Prioshop']\n",
        "ages=[20,30,40,50,50]\n",
        "rating=[10,7,10,7,8]\n",
        "print(list(zip(names,ages,rating)))"
      ],
      "execution_count": 60,
      "outputs": [
        {
          "output_type": "stream",
          "text": [
            "[('Daraz', 20, 10), ('Ajkerbazar', 30, 7), ('Evaly', 40, 10), ('Chaldal', 50, 7), ('Prioshop', 50, 8)]\n"
          ],
          "name": "stdout"
        }
      ]
    },
    {
      "cell_type": "markdown",
      "metadata": {
        "id": "e3HW9-Bp5LxQ"
      },
      "source": [
        "Smart Argument Sending"
      ]
    },
    {
      "cell_type": "code",
      "metadata": {
        "colab": {
          "base_uri": "https://localhost:8080/"
        },
        "id": "XBq0hmhF5QNb",
        "outputId": "8471b40e-62ed-4198-b1ca-6564fe0fcbb2"
      },
      "source": [
        "def func1(a,b,c):\n",
        "  print(a,b,c)\n",
        "  my_list= [10,20,30]\n",
        "func1(*my_list)\n",
        "\n",
        "my_anotherlist={'a':20,'b':30,'c':40}\n",
        "func1(*my_anotherlist)\n",
        "func1(**my_anotherlist)\n"
      ],
      "execution_count": 94,
      "outputs": [
        {
          "output_type": "stream",
          "text": [
            "10 20 30\n",
            "a b c\n",
            "20 30 40\n"
          ],
          "name": "stdout"
        }
      ]
    },
    {
      "cell_type": "markdown",
      "metadata": {
        "id": "TuTq_Wcq88S6"
      },
      "source": [
        "Positional Sorting"
      ]
    },
    {
      "cell_type": "code",
      "metadata": {
        "colab": {
          "base_uri": "https://localhost:8080/"
        },
        "id": "gvwOFxyO9ADH",
        "outputId": "bd6880ca-356b-4c4f-a956-959fbc1bf124"
      },
      "source": [
        "my_list=[[100,200],[-50,100],[75,-400]]\n",
        "my_list.sort()\n",
        "print(my_list)\n",
        "\n",
        "#Sort By Second Element\n",
        "my_list.sort(key=lambda x:x[1])\n",
        "print(my_list)\n",
        "\n",
        "#Sort By First Element\n",
        "my_list.sort(key=lambda x:x[0])\n",
        "print(my_list)"
      ],
      "execution_count": 99,
      "outputs": [
        {
          "output_type": "stream",
          "text": [
            "[[-50, 100], [75, -400], [100, 200]]\n",
            "[[75, -400], [-50, 100], [100, 200]]\n",
            "[[-50, 100], [75, -400], [100, 200]]\n"
          ],
          "name": "stdout"
        }
      ]
    }
  ]
}