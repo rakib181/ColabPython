{
  "nbformat": 4,
  "nbformat_minor": 0,
  "metadata": {
    "colab": {
      "name": "Final.ipynb",
      "provenance": [],
      "authorship_tag": "ABX9TyNEfng2Fo7IsyXLXge7Mza6",
      "include_colab_link": true
    },
    "kernelspec": {
      "name": "python3",
      "display_name": "Python 3"
    },
    "language_info": {
      "name": "python"
    }
  },
  "cells": [
    {
      "cell_type": "markdown",
      "metadata": {
        "id": "view-in-github",
        "colab_type": "text"
      },
      "source": [
        "<a href=\"https://colab.research.google.com/github/rakib181/ColabPython/blob/main/Final.ipynb\" target=\"_parent\"><img src=\"https://colab.research.google.com/assets/colab-badge.svg\" alt=\"Open In Colab\"/></a>"
      ]
    },
    {
      "cell_type": "code",
      "execution_count": 6,
      "metadata": {
        "colab": {
          "base_uri": "https://localhost:8080/"
        },
        "id": "aKwRTAQIkNEO",
        "outputId": "815e2c2c-80a3-4262-d769-d3c3ae8751d6"
      },
      "outputs": [
        {
          "output_type": "stream",
          "name": "stdout",
          "text": [
            "4096\n"
          ]
        }
      ],
      "source": [
        "thing = 1\n",
        "index = -3\n",
        "while index < 9:\n",
        "  thing += thing\n",
        "  index += 1\n",
        "print(thing)"
      ]
    },
    {
      "cell_type": "code",
      "source": [
        "Table=[\n",
        "       [4, 6],\n",
        "       [8, 10],\n",
        "       [12, 14],\n",
        "       [16, 18]\n",
        "]\n",
        "for x in range(len(Table)):\n",
        "  print(\"{} {}\".format(Table[x][0], Table[x][1]))"
      ],
      "metadata": {
        "colab": {
          "base_uri": "https://localhost:8080/"
        },
        "id": "tcKCzhEGmnAg",
        "outputId": "6a7904df-0162-4f8f-ecc6-da8b3cdb8ce9"
      },
      "execution_count": 5,
      "outputs": [
        {
          "output_type": "stream",
          "name": "stdout",
          "text": [
            "4 6\n",
            "8 10\n",
            "12 14\n",
            "16 18\n"
          ]
        }
      ]
    }
  ]
}