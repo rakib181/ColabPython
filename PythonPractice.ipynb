{
  "nbformat": 4,
  "nbformat_minor": 0,
  "metadata": {
    "colab": {
      "name": "PythonPractice.ipynb",
      "provenance": [],
      "authorship_tag": "ABX9TyN5HU/aa9QpWqODcbdXcF3b",
      "include_colab_link": true
    },
    "kernelspec": {
      "name": "python3",
      "display_name": "Python 3"
    },
    "language_info": {
      "name": "python"
    }
  },
  "cells": [
    {
      "cell_type": "markdown",
      "metadata": {
        "id": "view-in-github",
        "colab_type": "text"
      },
      "source": [
        "<a href=\"https://colab.research.google.com/github/rakib181/heisenberg/blob/main/PythonPractice.ipynb\" target=\"_parent\"><img src=\"https://colab.research.google.com/assets/colab-badge.svg\" alt=\"Open In Colab\"/></a>"
      ]
    },
    {
      "cell_type": "code",
      "metadata": {
        "colab": {
          "base_uri": "https://localhost:8080/"
        },
        "id": "DsyjN1I_GzI9",
        "outputId": "bb5f6a6d-3c07-4c56-c82e-30ea210e7c1f"
      },
      "source": [
        "name='RAKIB'\n",
        "print('Hello',name)"
      ],
      "execution_count": 4,
      "outputs": [
        {
          "output_type": "stream",
          "name": "stdout",
          "text": [
            "Hello RAKIB\n"
          ]
        }
      ]
    },
    {
      "cell_type": "code",
      "metadata": {
        "colab": {
          "base_uri": "https://localhost:8080/"
        },
        "id": "tNmwuY94hGez",
        "outputId": "aa6add1b-1ac9-4440-82a8-a6edde5add58"
      },
      "source": [
        "print('Hello'' ' +name)"
      ],
      "execution_count": 8,
      "outputs": [
        {
          "output_type": "stream",
          "name": "stdout",
          "text": [
            "Hello RAKIB\n"
          ]
        }
      ]
    },
    {
      "cell_type": "code",
      "metadata": {
        "colab": {
          "base_uri": "https://localhost:8080/"
        },
        "id": "YAs-Jm_2hS5B",
        "outputId": "7e96d880-0604-4567-b4ca-a6d367fe650c"
      },
      "source": [
        "print(f'Hello {name}')"
      ],
      "execution_count": 10,
      "outputs": [
        {
          "output_type": "stream",
          "name": "stdout",
          "text": [
            "Hello RAKIB\n"
          ]
        }
      ]
    },
    {
      "cell_type": "code",
      "metadata": {
        "colab": {
          "base_uri": "https://localhost:8080/"
        },
        "id": "di074e2WhuIc",
        "outputId": "73d0a206-058b-4d24-fe61-673a339e78a7"
      },
      "source": [
        "print(F'Hello {name} {name} {name}')"
      ],
      "execution_count": 12,
      "outputs": [
        {
          "output_type": "stream",
          "name": "stdout",
          "text": [
            "Hello RAKIB RAKIB RAKIB\n"
          ]
        }
      ]
    },
    {
      "cell_type": "code",
      "metadata": {
        "colab": {
          "base_uri": "https://localhost:8080/"
        },
        "id": "sdc-MoZmiBQM",
        "outputId": "62f0862c-2d6f-4222-fbd4-3db48949cf91"
      },
      "source": [
        "print(f'Hello {name} {20+10} {name*5} ')"
      ],
      "execution_count": 16,
      "outputs": [
        {
          "output_type": "stream",
          "name": "stdout",
          "text": [
            "Hello RAKIB 30 RAKIBRAKIBRAKIBRAKIBRAKIB \n"
          ]
        }
      ]
    },
    {
      "cell_type": "code",
      "metadata": {
        "colab": {
          "base_uri": "https://localhost:8080/"
        },
        "id": "NA91fyHSilDL",
        "outputId": "6e4728b1-315a-4026-d8ee-6cdd59c9c606"
      },
      "source": [
        "print(F'Hello {name} {[20,30,40,50,60]}')"
      ],
      "execution_count": 17,
      "outputs": [
        {
          "output_type": "stream",
          "name": "stdout",
          "text": [
            "Hello RAKIB [20, 30, 40, 50, 60]\n"
          ]
        }
      ]
    },
    {
      "cell_type": "code",
      "metadata": {
        "colab": {
          "base_uri": "https://localhost:8080/",
          "height": 35
        },
        "id": "Xc8DRC58iypd",
        "outputId": "669cc758-a990-4910-da1a-ac32aa90052f"
      },
      "source": [
        "X=F'Hello {name} {[10,20,30,40,50]}'\n",
        "X"
      ],
      "execution_count": 18,
      "outputs": [
        {
          "output_type": "execute_result",
          "data": {
            "application/vnd.google.colaboratory.intrinsic+json": {
              "type": "string"
            },
            "text/plain": [
              "'Hello RAKIB [10, 20, 30, 40, 50]'"
            ]
          },
          "metadata": {},
          "execution_count": 18
        }
      ]
    },
    {
      "cell_type": "code",
      "metadata": {
        "id": "nRIReQjkjzbo"
      },
      "source": [
        "My_tuple=(10,20,30,40)\n",
        "My_list=[5,6,7,8]\n",
        "My_dict={\"a\":12,\"b\":15,\"c\":18,\"d\":25}"
      ],
      "execution_count": 20,
      "outputs": []
    },
    {
      "cell_type": "code",
      "metadata": {
        "colab": {
          "base_uri": "https://localhost:8080/"
        },
        "id": "CrVW8dxqkRY6",
        "outputId": "28ed38a1-e02c-4968-fc63-85821c1aab1a"
      },
      "source": [
        "x,y,z,p=My_tuple\n",
        "print(x,y,z,p)"
      ],
      "execution_count": 21,
      "outputs": [
        {
          "output_type": "stream",
          "name": "stdout",
          "text": [
            "10 20 30 40\n"
          ]
        }
      ]
    },
    {
      "cell_type": "code",
      "metadata": {
        "colab": {
          "base_uri": "https://localhost:8080/"
        },
        "id": "rtf4f3mmkdQS",
        "outputId": "27daac83-ed35-46a6-85d5-162ba1ddaec5"
      },
      "source": [
        "x,y,z,p=My_list\n",
        "print(x,y,z,p)"
      ],
      "execution_count": 22,
      "outputs": [
        {
          "output_type": "stream",
          "name": "stdout",
          "text": [
            "5 6 7 8\n"
          ]
        }
      ]
    },
    {
      "cell_type": "code",
      "metadata": {
        "colab": {
          "base_uri": "https://localhost:8080/"
        },
        "id": "A1hV7aGLkkko",
        "outputId": "0ab39bfb-3096-4c96-9393-147e7b5cc7a6"
      },
      "source": [
        "x,y,z,p=My_dict.keys()\n",
        "print(x,y,z,p)\n"
      ],
      "execution_count": 24,
      "outputs": [
        {
          "output_type": "stream",
          "name": "stdout",
          "text": [
            "a b c d\n"
          ]
        }
      ]
    },
    {
      "cell_type": "code",
      "metadata": {
        "colab": {
          "base_uri": "https://localhost:8080/"
        },
        "id": "zJOneffblLo-",
        "outputId": "1ec6c78d-1acc-4d1c-c81f-7541e646a417"
      },
      "source": [
        "x,y,z,p=My_dict.values()\n",
        "print(x,y,z,p)\n"
      ],
      "execution_count": 25,
      "outputs": [
        {
          "output_type": "stream",
          "name": "stdout",
          "text": [
            "12 15 18 25\n"
          ]
        }
      ]
    },
    {
      "cell_type": "code",
      "metadata": {
        "colab": {
          "base_uri": "https://localhost:8080/"
        },
        "id": "CngIryewlQeN",
        "outputId": "eb79fe7a-a10b-4693-a8ee-f6322daca6d1"
      },
      "source": [
        "width,height=400,500\n",
        "width,height=height,width\n",
        "print(width,height)"
      ],
      "execution_count": 27,
      "outputs": [
        {
          "output_type": "stream",
          "name": "stdout",
          "text": [
            "500 400\n"
          ]
        }
      ]
    },
    {
      "cell_type": "code",
      "metadata": {
        "colab": {
          "base_uri": "https://localhost:8080/"
        },
        "id": "eHUv5S4umCLt",
        "outputId": "bec04cbe-4778-4e44-e843-8c7acc5746b1"
      },
      "source": [
        "X=[]\n",
        "for i in range(250):\n",
        "  X.append(i)\n",
        "print(X)"
      ],
      "execution_count": 33,
      "outputs": [
        {
          "output_type": "stream",
          "name": "stdout",
          "text": [
            "[0, 1, 2, 3, 4, 5, 6, 7, 8, 9, 10, 11, 12, 13, 14, 15, 16, 17, 18, 19, 20, 21, 22, 23, 24, 25, 26, 27, 28, 29, 30, 31, 32, 33, 34, 35, 36, 37, 38, 39, 40, 41, 42, 43, 44, 45, 46, 47, 48, 49, 50, 51, 52, 53, 54, 55, 56, 57, 58, 59, 60, 61, 62, 63, 64, 65, 66, 67, 68, 69, 70, 71, 72, 73, 74, 75, 76, 77, 78, 79, 80, 81, 82, 83, 84, 85, 86, 87, 88, 89, 90, 91, 92, 93, 94, 95, 96, 97, 98, 99, 100, 101, 102, 103, 104, 105, 106, 107, 108, 109, 110, 111, 112, 113, 114, 115, 116, 117, 118, 119, 120, 121, 122, 123, 124, 125, 126, 127, 128, 129, 130, 131, 132, 133, 134, 135, 136, 137, 138, 139, 140, 141, 142, 143, 144, 145, 146, 147, 148, 149, 150, 151, 152, 153, 154, 155, 156, 157, 158, 159, 160, 161, 162, 163, 164, 165, 166, 167, 168, 169, 170, 171, 172, 173, 174, 175, 176, 177, 178, 179, 180, 181, 182, 183, 184, 185, 186, 187, 188, 189, 190, 191, 192, 193, 194, 195, 196, 197, 198, 199, 200, 201, 202, 203, 204, 205, 206, 207, 208, 209, 210, 211, 212, 213, 214, 215, 216, 217, 218, 219, 220, 221, 222, 223, 224, 225, 226, 227, 228, 229, 230, 231, 232, 233, 234, 235, 236, 237, 238, 239, 240, 241, 242, 243, 244, 245, 246, 247, 248, 249]\n"
          ]
        }
      ]
    },
    {
      "cell_type": "code",
      "metadata": {
        "colab": {
          "base_uri": "https://localhost:8080/"
        },
        "id": "3UhPN-cTmmUf",
        "outputId": "6d9a0177-ecb8-4d22-8ad9-deef5c9afe79"
      },
      "source": [
        "Y=[i for i in range(250)]\n",
        "print(Y)"
      ],
      "execution_count": 35,
      "outputs": [
        {
          "output_type": "stream",
          "name": "stdout",
          "text": [
            "[0, 1, 2, 3, 4, 5, 6, 7, 8, 9, 10, 11, 12, 13, 14, 15, 16, 17, 18, 19, 20, 21, 22, 23, 24, 25, 26, 27, 28, 29, 30, 31, 32, 33, 34, 35, 36, 37, 38, 39, 40, 41, 42, 43, 44, 45, 46, 47, 48, 49, 50, 51, 52, 53, 54, 55, 56, 57, 58, 59, 60, 61, 62, 63, 64, 65, 66, 67, 68, 69, 70, 71, 72, 73, 74, 75, 76, 77, 78, 79, 80, 81, 82, 83, 84, 85, 86, 87, 88, 89, 90, 91, 92, 93, 94, 95, 96, 97, 98, 99, 100, 101, 102, 103, 104, 105, 106, 107, 108, 109, 110, 111, 112, 113, 114, 115, 116, 117, 118, 119, 120, 121, 122, 123, 124, 125, 126, 127, 128, 129, 130, 131, 132, 133, 134, 135, 136, 137, 138, 139, 140, 141, 142, 143, 144, 145, 146, 147, 148, 149, 150, 151, 152, 153, 154, 155, 156, 157, 158, 159, 160, 161, 162, 163, 164, 165, 166, 167, 168, 169, 170, 171, 172, 173, 174, 175, 176, 177, 178, 179, 180, 181, 182, 183, 184, 185, 186, 187, 188, 189, 190, 191, 192, 193, 194, 195, 196, 197, 198, 199, 200, 201, 202, 203, 204, 205, 206, 207, 208, 209, 210, 211, 212, 213, 214, 215, 216, 217, 218, 219, 220, 221, 222, 223, 224, 225, 226, 227, 228, 229, 230, 231, 232, 233, 234, 235, 236, 237, 238, 239, 240, 241, 242, 243, 244, 245, 246, 247, 248, 249]\n"
          ]
        }
      ]
    },
    {
      "cell_type": "code",
      "metadata": {
        "colab": {
          "base_uri": "https://localhost:8080/"
        },
        "id": "-RFwXlRzm2vH",
        "outputId": "9ea11d3d-b2a0-4f29-edf3-e96507fc00c9"
      },
      "source": [
        "Z=[i*j for i in range(5) for j in range(5)]\n",
        "print(Z)"
      ],
      "execution_count": 36,
      "outputs": [
        {
          "output_type": "stream",
          "name": "stdout",
          "text": [
            "[0, 0, 0, 0, 0, 0, 1, 2, 3, 4, 0, 2, 4, 6, 8, 0, 3, 6, 9, 12, 0, 4, 8, 12, 16]\n"
          ]
        }
      ]
    },
    {
      "cell_type": "code",
      "metadata": {
        "colab": {
          "base_uri": "https://localhost:8080/"
        },
        "id": "cpkOFyY3nbI1",
        "outputId": "c1d97638-217e-4784-8949-d158bfca634f"
      },
      "source": [
        "M=[[ 0 for _ in range(5) ] for _ in range(10)]\n",
        "print(M)"
      ],
      "execution_count": 37,
      "outputs": [
        {
          "output_type": "stream",
          "name": "stdout",
          "text": [
            "[[0, 0, 0, 0, 0], [0, 0, 0, 0, 0], [0, 0, 0, 0, 0], [0, 0, 0, 0, 0], [0, 0, 0, 0, 0], [0, 0, 0, 0, 0], [0, 0, 0, 0, 0], [0, 0, 0, 0, 0], [0, 0, 0, 0, 0], [0, 0, 0, 0, 0]]\n"
          ]
        }
      ]
    },
    {
      "cell_type": "code",
      "metadata": {
        "colab": {
          "base_uri": "https://localhost:8080/",
          "height": 35
        },
        "id": "oDtKmIfCoAxv",
        "outputId": "c98bfcd9-9732-4c10-bd74-bdcfbcfc4df9"
      },
      "source": [
        "X=\"Hello  \"*5\n",
        "X"
      ],
      "execution_count": 42,
      "outputs": [
        {
          "output_type": "execute_result",
          "data": {
            "application/vnd.google.colaboratory.intrinsic+json": {
              "type": "string"
            },
            "text/plain": [
              "'Hello  Hello  Hello  Hello  Hello  '"
            ]
          },
          "metadata": {},
          "execution_count": 42
        }
      ]
    },
    {
      "cell_type": "code",
      "metadata": {
        "colab": {
          "base_uri": "https://localhost:8080/"
        },
        "id": "J-6vjD2doUSk",
        "outputId": "62c021ec-b742-4891-be8e-c7de41350a5b"
      },
      "source": [
        "X=[1,2,3,4,5]*5\n",
        "X"
      ],
      "execution_count": 43,
      "outputs": [
        {
          "output_type": "execute_result",
          "data": {
            "text/plain": [
              "[1, 2, 3, 4, 5, 1, 2, 3, 4, 5, 1, 2, 3, 4, 5, 1, 2, 3, 4, 5, 1, 2, 3, 4, 5]"
            ]
          },
          "metadata": {},
          "execution_count": 43
        }
      ]
    },
    {
      "cell_type": "code",
      "metadata": {
        "colab": {
          "base_uri": "https://localhost:8080/"
        },
        "id": "NKjuroXAobIr",
        "outputId": "52fce08f-874f-4bda-8bd1-62af1ee569d1"
      },
      "source": [
        "X=[[1,2,3,4,5]]*5\n",
        "X"
      ],
      "execution_count": 44,
      "outputs": [
        {
          "output_type": "execute_result",
          "data": {
            "text/plain": [
              "[[1, 2, 3, 4, 5],\n",
              " [1, 2, 3, 4, 5],\n",
              " [1, 2, 3, 4, 5],\n",
              " [1, 2, 3, 4, 5],\n",
              " [1, 2, 3, 4, 5]]"
            ]
          },
          "metadata": {},
          "execution_count": 44
        }
      ]
    },
    {
      "cell_type": "code",
      "metadata": {
        "colab": {
          "base_uri": "https://localhost:8080/"
        },
        "id": "0Xu4qUN9okJJ",
        "outputId": "88c7fe3a-2d49-459b-ef10-39e4b777cb4c"
      },
      "source": [
        "X=(10, 20)*5\n",
        "X"
      ],
      "execution_count": 47,
      "outputs": [
        {
          "output_type": "execute_result",
          "data": {
            "text/plain": [
              "(10, 20, 10, 20, 10, 20, 10, 20, 10, 20)"
            ]
          },
          "metadata": {},
          "execution_count": 47
        }
      ]
    },
    {
      "cell_type": "code",
      "metadata": {
        "colab": {
          "base_uri": "https://localhost:8080/"
        },
        "id": "OwqOgrn2ozUj",
        "outputId": "c1728dd1-ba57-4564-d813-9440781e5af5"
      },
      "source": [
        "X=1 if 2<3 else 0\n",
        "print(X)"
      ],
      "execution_count": 49,
      "outputs": [
        {
          "output_type": "stream",
          "name": "stdout",
          "text": [
            "1\n"
          ]
        }
      ]
    },
    {
      "cell_type": "code",
      "metadata": {
        "colab": {
          "base_uri": "https://localhost:8080/"
        },
        "id": "LZ4JPkb_soBh",
        "outputId": "2395ae07-8ad6-48de-fb2e-386f495a115d"
      },
      "source": [
        "Name=['Rakib','Miraz','Rashed','Qureshi']\n",
        "Ages=[20,21,22,23]\n",
        "Rate=[9,10,9,8]\n",
        "print(list(zip(Name,Ages,Rate)))"
      ],
      "execution_count": 57,
      "outputs": [
        {
          "output_type": "stream",
          "name": "stdout",
          "text": [
            "[('Rakib', 20, 9), ('Miraz', 21, 10), ('Rashed', 22, 9), ('Qureshi', 23, 8)]\n"
          ]
        }
      ]
    },
    {
      "cell_type": "code",
      "metadata": {
        "colab": {
          "base_uri": "https://localhost:8080/"
        },
        "id": "uMGoZIoptGEJ",
        "outputId": "96899663-51a9-43d0-9742-af25ee550d70"
      },
      "source": [
        "def func(a1,a2,a3):\n",
        "  print(a1,a2,a3)\n",
        "\n",
        "func(10,20,30)"
      ],
      "execution_count": 101,
      "outputs": [
        {
          "output_type": "stream",
          "name": "stdout",
          "text": [
            "10 20 30\n"
          ]
        }
      ]
    },
    {
      "cell_type": "code",
      "metadata": {
        "colab": {
          "base_uri": "https://localhost:8080/"
        },
        "id": "pMRcdyu7w1qd",
        "outputId": "1d3ef5b4-b3d2-4715-c21a-038fcbf46bd4"
      },
      "source": [
        "My_list=[20,30,40]\n",
        "func(*My_list)\n"
      ],
      "execution_count": 102,
      "outputs": [
        {
          "output_type": "stream",
          "name": "stdout",
          "text": [
            "20 30 40\n"
          ]
        }
      ]
    },
    {
      "cell_type": "code",
      "metadata": {
        "colab": {
          "base_uri": "https://localhost:8080/"
        },
        "id": "j8H3PIMZ0K3V",
        "outputId": "126ad4bf-13a6-48e7-b19b-f65da5b1aa0c"
      },
      "source": [
        "My_anotherlist={\"a1\":20,\"a2\":30,\"a3\":40}\n",
        "func(*My_anotherlist)\n",
        "func(**My_anotherlist)"
      ],
      "execution_count": 104,
      "outputs": [
        {
          "output_type": "stream",
          "name": "stdout",
          "text": [
            "a1 a2 a3\n",
            "20 30 40\n"
          ]
        }
      ]
    },
    {
      "cell_type": "code",
      "metadata": {
        "colab": {
          "base_uri": "https://localhost:8080/"
        },
        "id": "Xu7AZRudCEPF",
        "outputId": "6ec20a8f-c8ec-4a62-c139-55380c50165f"
      },
      "source": [
        "My_list=[[100,50],[240,120],[20,50]]\n",
        "My_list.sort()\n",
        "print(My_list)"
      ],
      "execution_count": 110,
      "outputs": [
        {
          "output_type": "stream",
          "name": "stdout",
          "text": [
            "[[20, 50], [100, 50], [240, 120]]\n"
          ]
        }
      ]
    },
    {
      "cell_type": "code",
      "metadata": {
        "colab": {
          "base_uri": "https://localhost:8080/"
        },
        "id": "CHWx6m--EKAD",
        "outputId": "10372ecb-b0af-4d72-ece7-96cb429f10d6"
      },
      "source": [
        "My_list.sort(key=lambda x:x[1])\n",
        "print(My_list)"
      ],
      "execution_count": 109,
      "outputs": [
        {
          "output_type": "stream",
          "name": "stdout",
          "text": [
            "[[20, 50], [100, 50], [240, 120]]\n"
          ]
        }
      ]
    },
    {
      "cell_type": "code",
      "metadata": {
        "colab": {
          "base_uri": "https://localhost:8080/"
        },
        "id": "go5U549yEj2w",
        "outputId": "9b64bf94-3bfa-4ad5-9ef1-7d70ef7a80b8"
      },
      "source": [
        "My_list.sort(key=lambda x:x[0])\n",
        "print(My_list)"
      ],
      "execution_count": 113,
      "outputs": [
        {
          "output_type": "stream",
          "name": "stdout",
          "text": [
            "[[20, 50], [100, 50], [240, 120]]\n"
          ]
        }
      ]
    }
  ]
}