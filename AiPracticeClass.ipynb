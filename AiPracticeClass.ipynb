{
  "nbformat": 4,
  "nbformat_minor": 0,
  "metadata": {
    "colab": {
      "name": "AiPracticeClass.ipynb",
      "provenance": [],
      "authorship_tag": "ABX9TyON+rUj5axVJc2/zMHwY5+Q",
      "include_colab_link": true
    },
    "kernelspec": {
      "name": "python3",
      "display_name": "Python 3"
    },
    "language_info": {
      "name": "python"
    }
  },
  "cells": [
    {
      "cell_type": "markdown",
      "metadata": {
        "id": "view-in-github",
        "colab_type": "text"
      },
      "source": [
        "<a href=\"https://colab.research.google.com/github/rakib181/heisenberg/blob/main/AiPracticeClass.ipynb\" target=\"_parent\"><img src=\"https://colab.research.google.com/assets/colab-badge.svg\" alt=\"Open In Colab\"/></a>"
      ]
    },
    {
      "cell_type": "code",
      "execution_count": 5,
      "metadata": {
        "colab": {
          "base_uri": "https://localhost:8080/"
        },
        "id": "cZSXl16N8L_C",
        "outputId": "d2ba9e72-556a-4dcb-c677-e73ebf802f00"
      },
      "outputs": [
        {
          "output_type": "stream",
          "name": "stdout",
          "text": [
            "<class 'int'>\n",
            "5\n"
          ]
        }
      ],
      "source": [
        "a=int(5.2)\n",
        "print(type(a))\n",
        "print(a)"
      ]
    },
    {
      "cell_type": "code",
      "source": [
        "a , b ,c = \"Red\",\"Green\",\"Yellow\"\n",
        "print(a)"
      ],
      "metadata": {
        "colab": {
          "base_uri": "https://localhost:8080/"
        },
        "id": "J5QfZbeu9VTN",
        "outputId": "7954a92e-8b26-48cb-d993-7fdd765d5799"
      },
      "execution_count": 7,
      "outputs": [
        {
          "output_type": "stream",
          "name": "stdout",
          "text": [
            "Red\n"
          ]
        }
      ]
    },
    {
      "cell_type": "code",
      "source": [
        "a=b=c=10\n",
        "print(a)"
      ],
      "metadata": {
        "colab": {
          "base_uri": "https://localhost:8080/"
        },
        "id": "T9jMcU3w95Zn",
        "outputId": "71de3c82-ec98-403d-e3a6-08f79de9a8fe"
      },
      "execution_count": 9,
      "outputs": [
        {
          "output_type": "stream",
          "name": "stdout",
          "text": [
            "10\n"
          ]
        }
      ]
    },
    {
      "cell_type": "code",
      "source": [
        "x1=\"Hello Rakib\"\n",
        "print(\"Type of x1 : \",type(x1))"
      ],
      "metadata": {
        "colab": {
          "base_uri": "https://localhost:8080/"
        },
        "id": "UDM-ouL3-DEL",
        "outputId": "b24fd7fa-c00a-4cbd-e1c1-45d114a1ba7e"
      },
      "execution_count": 10,
      "outputs": [
        {
          "output_type": "stream",
          "name": "stdout",
          "text": [
            "Type of x1 :  <class 'str'>\n"
          ]
        }
      ]
    },
    {
      "cell_type": "code",
      "source": [
        "x2=[23,34,23,22]\n",
        "print(\"X2 : \",x2)\n",
        "print(\"X2 : \",x2[2])\n",
        "print(type(x2))"
      ],
      "metadata": {
        "colab": {
          "base_uri": "https://localhost:8080/"
        },
        "id": "pSTZHt6X-gP3",
        "outputId": "1438a6f4-112e-4fe8-e13c-faf578dcb8c3"
      },
      "execution_count": 17,
      "outputs": [
        {
          "output_type": "stream",
          "name": "stdout",
          "text": [
            "X2 :  [23, 34, 23, 22]\n",
            "X2 :  23\n",
            "<class 'list'>\n"
          ]
        }
      ]
    },
    {
      "cell_type": "code",
      "source": [
        "x2=range(10)\n",
        "print(x2)\n",
        "print(type(x2))"
      ],
      "metadata": {
        "colab": {
          "base_uri": "https://localhost:8080/"
        },
        "id": "G3aJKNeM_Jt9",
        "outputId": "bac8f07d-523d-403d-d89b-ce666a1a080b"
      },
      "execution_count": 19,
      "outputs": [
        {
          "output_type": "stream",
          "name": "stdout",
          "text": [
            "range(0, 10)\n",
            "<class 'range'>\n"
          ]
        }
      ]
    },
    {
      "cell_type": "code",
      "source": [
        "x2=(23,34,23,22)\n",
        "print(type(x2))"
      ],
      "metadata": {
        "colab": {
          "base_uri": "https://localhost:8080/"
        },
        "id": "tP4sHXY1AZIp",
        "outputId": "3cd08ee9-bf14-4012-a188-13fc9ed71e78"
      },
      "execution_count": 20,
      "outputs": [
        {
          "output_type": "stream",
          "name": "stdout",
          "text": [
            "<class 'tuple'>\n"
          ]
        }
      ]
    },
    {
      "cell_type": "code",
      "source": [
        "a = int(12)\n",
        "print(\"a: \", a)  # Output: a: 12\n",
        " \n",
        "a = int(23.33)\n",
        "print(a)  # Output: a: 23\n",
        " \n",
        "a = int(\"5\")\n",
        "print(\"a: \", a)  # Output: a: 5\n",
        "print(\"type of a: \", type(a))  # Output: 3<class 'int'>\n",
        " \n",
        "b = float(12)\n",
        "print(\"b: \", b)  # Output: 12.0\n",
        " \n",
        "b = float(23.33)\n",
        "print(\"b: \", b)  # Output: 23.33\n",
        " \n",
        "b = float(\"5\")\n",
        "print(\"b: \", b)  # Output: 5.0\n",
        "print(\"type of b: \", type(b))  # Output: 3<class\n"
      ],
      "metadata": {
        "colab": {
          "base_uri": "https://localhost:8080/"
        },
        "id": "DFmcIRUtAnlX",
        "outputId": "06090bd3-7231-4e9c-92f0-049b9005e23b"
      },
      "execution_count": 21,
      "outputs": [
        {
          "output_type": "stream",
          "name": "stdout",
          "text": [
            "a:  12\n",
            "23\n",
            "a:  5\n",
            "type of a:  <class 'int'>\n",
            "b:  12.0\n",
            "b:  23.33\n",
            "b:  5.0\n",
            "type of b:  <class 'float'>\n"
          ]
        }
      ]
    },
    {
      "cell_type": "code",
      "source": [
        "s = \"\"\" Lorem ipsum dolor sit amet \n",
        "consecrated advising elite sed do emus \n",
        "temper incident ut labor et door magna alia\"\"\"\n",
        "print(len(s))"
      ],
      "metadata": {
        "colab": {
          "base_uri": "https://localhost:8080/"
        },
        "id": "whLd-bTFB9WW",
        "outputId": "17980b43-2cac-4181-fbe6-e723ce653c2c"
      },
      "execution_count": 25,
      "outputs": [
        {
          "output_type": "stream",
          "name": "stdout",
          "text": [
            "112\n"
          ]
        }
      ]
    },
    {
      "cell_type": "code",
      "source": [
        "\n",
        "for x in \"APPLE\":\n",
        "     print(x)"
      ],
      "metadata": {
        "colab": {
          "base_uri": "https://localhost:8080/"
        },
        "id": "JI8yWNzgC-gu",
        "outputId": "981282a1-98cd-438d-8ae5-b2e037334401"
      },
      "execution_count": 31,
      "outputs": [
        {
          "output_type": "stream",
          "name": "stdout",
          "text": [
            "A\n",
            "P\n",
            "P\n",
            "L\n",
            "E\n"
          ]
        }
      ]
    },
    {
      "cell_type": "code",
      "source": [
        "text = \"Hello quraishi kmn asos?\"\n",
        "print(\"kmn\" in text)"
      ],
      "metadata": {
        "colab": {
          "base_uri": "https://localhost:8080/"
        },
        "id": "ljxnKfe3DcPf",
        "outputId": "bfebf6cc-d62f-41f6-a5c7-664a74fd406e"
      },
      "execution_count": 32,
      "outputs": [
        {
          "output_type": "stream",
          "name": "stdout",
          "text": [
            "True\n"
          ]
        }
      ]
    },
    {
      "cell_type": "code",
      "source": [
        "text = \"Hello Quraishi kmn asos?\"\n",
        "print(\"kmn\" not in text)"
      ],
      "metadata": {
        "colab": {
          "base_uri": "https://localhost:8080/"
        },
        "outputId": "18fee5f2-a685-4262-eef4-200fb4a5823c",
        "id": "dd2oJQXfD_dA"
      },
      "execution_count": 35,
      "outputs": [
        {
          "output_type": "stream",
          "name": "stdout",
          "text": [
            "False\n"
          ]
        }
      ]
    },
    {
      "cell_type": "code",
      "source": [
        "print(text[6:13])"
      ],
      "metadata": {
        "colab": {
          "base_uri": "https://localhost:8080/"
        },
        "id": "l_S_4WhUEIYh",
        "outputId": "f0f1366e-33a8-4cf2-8cca-98e3809b41da"
      },
      "execution_count": 36,
      "outputs": [
        {
          "output_type": "stream",
          "name": "stdout",
          "text": [
            "Quraish\n"
          ]
        }
      ]
    },
    {
      "cell_type": "code",
      "source": [
        "quantity = 3\n",
        "itemno = 567\n",
        "price = 49.95\n",
        "myorder = \"I want {} pieces of item {} for {} dollars.\"\n",
        "print(myorder.format(quantity, itemno, price))  # Output: I want 3 pieces of item 567 for 49.95 dollars.\n",
        " \n",
        "myorder = \"I want to pay {2} dollars for {0} pieces of item {1}.\"\n",
        "print(myorder.format(quantity, itemno, price))  # Output: I want to pay 49.95 dollars for 3 pieces of item 567."
      ],
      "metadata": {
        "colab": {
          "base_uri": "https://localhost:8080/"
        },
        "id": "NnOn10unEzKr",
        "outputId": "9a1d0ba7-e706-466c-ad4b-78567f5a2360"
      },
      "execution_count": 37,
      "outputs": [
        {
          "output_type": "stream",
          "name": "stdout",
          "text": [
            "I want 3 pieces of item 567 for 49.95 dollars.\n",
            "I want to pay 49.95 dollars for 3 pieces of item 567.\n"
          ]
        }
      ]
    },
    {
      "cell_type": "code",
      "source": [
        "x = [\"apple\", \"banana\"]\n",
        "y = [\"apple\", \"banana\"]\n",
        "z = x\n",
        "print(x is z)"
      ],
      "metadata": {
        "colab": {
          "base_uri": "https://localhost:8080/"
        },
        "id": "9L1Fr6THG1kf",
        "outputId": "e4516888-ef25-4664-c245-f7c252c46edd"
      },
      "execution_count": 40,
      "outputs": [
        {
          "output_type": "stream",
          "name": "stdout",
          "text": [
            "True\n"
          ]
        }
      ]
    },
    {
      "cell_type": "code",
      "source": [
        "age = 15\n",
        "if age >= 18:\n",
        "    print(\"You are eligible to vote !!\")\n",
        "else:\n",
        "    print(\"You aren't eligible to vote !!\")"
      ],
      "metadata": {
        "colab": {
          "base_uri": "https://localhost:8080/"
        },
        "id": "m0Ep1D3gILPc",
        "outputId": "ca2e7294-883c-46ba-f965-eebc3af148b6"
      },
      "execution_count": 41,
      "outputs": [
        {
          "output_type": "stream",
          "name": "stdout",
          "text": [
            "You aren't eligible to vote !!\n"
          ]
        }
      ]
    },
    {
      "cell_type": "code",
      "source": [
        "i=1\n",
        "while(i<10):\n",
        "  print(i, end=\" \") \n",
        "  i += 1\n",
        "print(\"Hello\")\n",
        "print()  "
      ],
      "metadata": {
        "colab": {
          "base_uri": "https://localhost:8080/"
        },
        "id": "fIwD4-QpIbJR",
        "outputId": "90cafa00-86fe-4f77-cdb4-975c36fe6d01"
      },
      "execution_count": 54,
      "outputs": [
        {
          "output_type": "stream",
          "name": "stdout",
          "text": [
            "1 2 3 4 5 6 7 8 9 Hello\n",
            "\n"
          ]
        }
      ]
    },
    {
      "cell_type": "code",
      "source": [
        "n=[2,3,6,0,1]\n",
        "for v in n:\n",
        "  print(v)"
      ],
      "metadata": {
        "colab": {
          "base_uri": "https://localhost:8080/"
        },
        "id": "N1zPvrTpKFEG",
        "outputId": "83f3d7db-c2af-4c1a-a156-caa661ec6eb9"
      },
      "execution_count": 55,
      "outputs": [
        {
          "output_type": "stream",
          "name": "stdout",
          "text": [
            "2\n",
            "3\n",
            "6\n",
            "0\n",
            "1\n"
          ]
        }
      ]
    },
    {
      "cell_type": "code",
      "source": [
        "fruits = \"Apple\",\"Banana\",\"Qureshi\"\n",
        "for x in fruits:\n",
        "  print(x)"
      ],
      "metadata": {
        "colab": {
          "base_uri": "https://localhost:8080/"
        },
        "id": "TE4uz7TNKUEY",
        "outputId": "f5c7f7b1-c021-4a07-9541-3c9817ac76aa"
      },
      "execution_count": 56,
      "outputs": [
        {
          "output_type": "stream",
          "name": "stdout",
          "text": [
            "Apple\n",
            "Banana\n",
            "Qureshi\n"
          ]
        }
      ]
    },
    {
      "cell_type": "code",
      "source": [
        "for i in range(5):\n",
        "  print(i, end=\" \")"
      ],
      "metadata": {
        "colab": {
          "base_uri": "https://localhost:8080/"
        },
        "id": "G4yly4koKjdd",
        "outputId": "5ed2f303-25ad-4e9c-82e2-27521e361b5d"
      },
      "execution_count": 57,
      "outputs": [
        {
          "output_type": "stream",
          "name": "stdout",
          "text": [
            "0 1 2 3 4 "
          ]
        }
      ]
    }
  ]
}