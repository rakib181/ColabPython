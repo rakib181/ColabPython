{
  "nbformat": 4,
  "nbformat_minor": 0,
  "metadata": {
    "colab": {
      "name": "ChatBot.ipynb",
      "provenance": [],
      "authorship_tag": "ABX9TyNsfnizpv4dNcvI8Gy3yFix",
      "include_colab_link": true
    },
    "kernelspec": {
      "name": "python3",
      "display_name": "Python 3"
    },
    "language_info": {
      "name": "python"
    }
  },
  "cells": [
    {
      "cell_type": "markdown",
      "metadata": {
        "id": "view-in-github",
        "colab_type": "text"
      },
      "source": [
        "<a href=\"https://colab.research.google.com/github/rakib181/heisenberg/blob/main/ChatBot.ipynb\" target=\"_parent\"><img src=\"https://colab.research.google.com/assets/colab-badge.svg\" alt=\"Open In Colab\"/></a>"
      ]
    },
    {
      "cell_type": "code",
      "execution_count": 1,
      "metadata": {
        "colab": {
          "base_uri": "https://localhost:8080/"
        },
        "id": "icusFlVsvqex",
        "outputId": "977478e1-9838-491e-f98d-489e1ba898dd"
      },
      "outputs": [
        {
          "output_type": "stream",
          "name": "stdout",
          "text": [
            "Collecting chatterbot\n",
            "  Downloading ChatterBot-1.0.8-py2.py3-none-any.whl (63 kB)\n",
            "\u001b[?25l\r\u001b[K     |█████▏                          | 10 kB 16.8 MB/s eta 0:00:01\r\u001b[K     |██████████▎                     | 20 kB 19.2 MB/s eta 0:00:01\r\u001b[K     |███████████████▌                | 30 kB 11.6 MB/s eta 0:00:01\r\u001b[K     |████████████████████▋           | 40 kB 9.7 MB/s eta 0:00:01\r\u001b[K     |█████████████████████████▊      | 51 kB 5.2 MB/s eta 0:00:01\r\u001b[K     |███████████████████████████████ | 61 kB 5.5 MB/s eta 0:00:01\r\u001b[K     |████████████████████████████████| 63 kB 1.7 MB/s \n",
            "\u001b[?25hCollecting mathparse<0.2,>=0.1\n",
            "  Downloading mathparse-0.1.2-py3-none-any.whl (7.2 kB)\n",
            "Requirement already satisfied: pytz in /usr/local/lib/python3.7/dist-packages (from chatterbot) (2018.9)\n",
            "Requirement already satisfied: python-dateutil<2.9,>=2.8 in /usr/local/lib/python3.7/dist-packages (from chatterbot) (2.8.2)\n",
            "Collecting sqlalchemy<1.4,>=1.3\n",
            "  Downloading SQLAlchemy-1.3.24-cp37-cp37m-manylinux2010_x86_64.whl (1.3 MB)\n",
            "\u001b[K     |████████████████████████████████| 1.3 MB 8.2 MB/s \n",
            "\u001b[?25hRequirement already satisfied: six>=1.5 in /usr/local/lib/python3.7/dist-packages (from python-dateutil<2.9,>=2.8->chatterbot) (1.15.0)\n",
            "Installing collected packages: sqlalchemy, mathparse, chatterbot\n",
            "  Attempting uninstall: sqlalchemy\n",
            "    Found existing installation: SQLAlchemy 1.4.27\n",
            "    Uninstalling SQLAlchemy-1.4.27:\n",
            "      Successfully uninstalled SQLAlchemy-1.4.27\n",
            "Successfully installed chatterbot-1.0.8 mathparse-0.1.2 sqlalchemy-1.3.24\n"
          ]
        }
      ],
      "source": [
        "pip install chatterbot"
      ]
    },
    {
      "cell_type": "code",
      "source": [
        "from chatterbot import ChatBot\n",
        "from chatterbot.trainers import ListTrainer\n",
        "bot=ChatBot('RAKIB')\n",
        "Trainer=ListTrainer(bot)"
      ],
      "metadata": {
        "id": "Iq7li2NCv2PS"
      },
      "execution_count": 2,
      "outputs": []
    },
    {
      "cell_type": "code",
      "source": [
        "Trainer.train(\n",
        "    [\n",
        "     'Hi',\n",
        "     'Hello',\n",
        "     'How Are YOu?',\n",
        "     'I Am Fine, Whats About You?',\n",
        "     'Alhamdulillah',\n",
        "     'Whats Your Name?',\n",
        "     'I Am Md Rakibul Hasan',\n",
        "     'Ok, Have a Nice Day'\n",
        "    ]\n",
        ")"
      ],
      "metadata": {
        "id": "rxqMZvc3wyRY"
      },
      "execution_count": null,
      "outputs": []
    },
    {
      "cell_type": "code",
      "source": [
        "while True:\n",
        "  try:\n",
        "    Input=input()\n",
        "    Output=bot.get_response(Input)\n",
        "    print(Output)\n",
        "  except(KeyboardInterrupt, EOFError, SystemExit):  \n",
        "       break"
      ],
      "metadata": {
        "id": "0kAAk8UNxhtg"
      },
      "execution_count": null,
      "outputs": []
    }
  ]
}