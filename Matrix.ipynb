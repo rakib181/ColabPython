{
  "nbformat": 4,
  "nbformat_minor": 0,
  "metadata": {
    "colab": {
      "name": "Matrix.ipynb",
      "provenance": [],
      "authorship_tag": "ABX9TyPSWJgFfo5zyFibZVMGqMj/",
      "include_colab_link": true
    },
    "kernelspec": {
      "name": "python3",
      "display_name": "Python 3"
    },
    "language_info": {
      "name": "python"
    }
  },
  "cells": [
    {
      "cell_type": "markdown",
      "metadata": {
        "id": "view-in-github",
        "colab_type": "text"
      },
      "source": [
        "<a href=\"https://colab.research.google.com/github/rakib181/heisenberg/blob/main/Matrix.ipynb\" target=\"_parent\"><img src=\"https://colab.research.google.com/assets/colab-badge.svg\" alt=\"Open In Colab\"/></a>"
      ]
    },
    {
      "cell_type": "code",
      "metadata": {
        "id": "uDJL_jCQQ_xI"
      },
      "source": [
        "import numpy as np"
      ],
      "execution_count": 8,
      "outputs": []
    },
    {
      "cell_type": "code",
      "metadata": {
        "id": "VyUAthjoRJr-"
      },
      "source": [
        "A= np.array([[6, 1, 1],\n",
        "            [4, -2, 5],\n",
        "            [2, 8, 7]])"
      ],
      "execution_count": 18,
      "outputs": []
    },
    {
      "cell_type": "code",
      "metadata": {
        "colab": {
          "base_uri": "https://localhost:8080/"
        },
        "id": "hIma51vMRhN8",
        "outputId": "a023048d-94c9-4f60-e2a1-d4f13754d935"
      },
      "source": [
        "print (\"Rank of A :\",np.linalg.matrix_rank(A))\n"
      ],
      "execution_count": 10,
      "outputs": [
        {
          "output_type": "stream",
          "name": "stdout",
          "text": [
            "Rank of A : 3\n"
          ]
        }
      ]
    },
    {
      "cell_type": "code",
      "metadata": {
        "colab": {
          "base_uri": "https://localhost:8080/"
        },
        "id": "4jpMtV4bSYJC",
        "outputId": "33584e29-2f03-4d3f-c307-a112f8e3a080"
      },
      "source": [
        "print(\"\\nTrace of A : \",np.trace(A))"
      ],
      "execution_count": 13,
      "outputs": [
        {
          "output_type": "stream",
          "name": "stdout",
          "text": [
            "\n",
            "Trace of A :  11\n"
          ]
        }
      ]
    },
    {
      "cell_type": "code",
      "metadata": {
        "colab": {
          "base_uri": "https://localhost:8080/"
        },
        "id": "YSu8T6ggSouW",
        "outputId": "22e11d2b-4b94-4a3e-84d9-73303491d7f3"
      },
      "source": [
        "C=np.linalg.det(A)\n",
        "C"
      ],
      "execution_count": 14,
      "outputs": [
        {
          "output_type": "execute_result",
          "data": {
            "text/plain": [
              "-306.0"
            ]
          },
          "metadata": {},
          "execution_count": 14
        }
      ]
    },
    {
      "cell_type": "code",
      "metadata": {
        "colab": {
          "base_uri": "https://localhost:8080/"
        },
        "id": "HHzvXqIiS1R5",
        "outputId": "0a624328-bef2-4e08-b287-1890db41e2a6"
      },
      "source": [
        "D=np.linalg.inv(A)\n",
        "D"
      ],
      "execution_count": 15,
      "outputs": [
        {
          "output_type": "execute_result",
          "data": {
            "text/plain": [
              "array([[ 0.17647059, -0.00326797, -0.02287582],\n",
              "       [ 0.05882353, -0.13071895,  0.08496732],\n",
              "       [-0.11764706,  0.1503268 ,  0.05228758]])"
            ]
          },
          "metadata": {},
          "execution_count": 15
        }
      ]
    },
    {
      "cell_type": "code",
      "metadata": {
        "colab": {
          "base_uri": "https://localhost:8080/"
        },
        "id": "x6zRtYonTOIA",
        "outputId": "d1c03d0d-7090-4190-9975-7d24059688a7"
      },
      "source": [
        "E=np.linalg.matrix_power(A, 3)\n",
        "E"
      ],
      "execution_count": 20,
      "outputs": [
        {
          "output_type": "execute_result",
          "data": {
            "text/plain": [
              "array([[336, 162, 228],\n",
              "       [406, 162, 469],\n",
              "       [698, 702, 905]])"
            ]
          },
          "metadata": {},
          "execution_count": 20
        }
      ]
    },
    {
      "cell_type": "code",
      "metadata": {
        "id": "826yoADKW81H"
      },
      "source": [
        "from numpy import linalg as alg"
      ],
      "execution_count": 22,
      "outputs": []
    },
    {
      "cell_type": "code",
      "metadata": {
        "colab": {
          "base_uri": "https://localhost:8080/"
        },
        "id": "DqoYjSvTXEk2",
        "outputId": "de06efb5-9727-4a3c-e2c9-50a6324b0e30"
      },
      "source": [
        "a= np.array([[1, -2j], [2j, 5]])\n",
        "a"
      ],
      "execution_count": 27,
      "outputs": [
        {
          "output_type": "execute_result",
          "data": {
            "text/plain": [
              "array([[ 1.+0.j, -0.-2.j],\n",
              "       [ 0.+2.j,  5.+0.j]])"
            ]
          },
          "metadata": {},
          "execution_count": 27
        }
      ]
    },
    {
      "cell_type": "code",
      "metadata": {
        "colab": {
          "base_uri": "https://localhost:8080/"
        },
        "id": "aaoaXtfiXq9b",
        "outputId": "50226b88-79fa-4f78-80f4-9897edaac2c9"
      },
      "source": [
        "c,d=alg.eigh(a)\n",
        "c\n",
        "d"
      ],
      "execution_count": 28,
      "outputs": [
        {
          "output_type": "execute_result",
          "data": {
            "text/plain": [
              "array([[-0.92387953+0.j        , -0.38268343+0.j        ],\n",
              "       [ 0.        +0.38268343j,  0.        -0.92387953j]])"
            ]
          },
          "metadata": {},
          "execution_count": 28
        }
      ]
    },
    {
      "cell_type": "code",
      "metadata": {
        "colab": {
          "base_uri": "https://localhost:8080/"
        },
        "id": "vRsnqyxnX4OG",
        "outputId": "5359d354-739e-48c6-a999-8bb6e2241665"
      },
      "source": [
        "a= np.diag((1,2,3))\n",
        "a"
      ],
      "execution_count": 29,
      "outputs": [
        {
          "output_type": "execute_result",
          "data": {
            "text/plain": [
              "array([[1, 0, 0],\n",
              "       [0, 2, 0],\n",
              "       [0, 0, 3]])"
            ]
          },
          "metadata": {},
          "execution_count": 29
        }
      ]
    },
    {
      "cell_type": "code",
      "metadata": {
        "colab": {
          "base_uri": "https://localhost:8080/"
        },
        "id": "zk-OSeByYMg3",
        "outputId": "b656beea-1611-4952-e1b2-f82c73c5ab15"
      },
      "source": [
        "c,d=alg.eig(a)\n",
        "c\n",
        "d"
      ],
      "execution_count": 30,
      "outputs": [
        {
          "output_type": "execute_result",
          "data": {
            "text/plain": [
              "array([[1., 0., 0.],\n",
              "       [0., 1., 0.],\n",
              "       [0., 0., 1.]])"
            ]
          },
          "metadata": {},
          "execution_count": 30
        }
      ]
    },
    {
      "cell_type": "code",
      "metadata": {
        "colab": {
          "base_uri": "https://localhost:8080/"
        },
        "id": "9_51EhkrYd37",
        "outputId": "47970ef7-af00-419e-ee76-3c3fb7372415"
      },
      "source": [
        "product = np.dot(5,4)\n",
        "product"
      ],
      "execution_count": 31,
      "outputs": [
        {
          "output_type": "execute_result",
          "data": {
            "text/plain": [
              "20"
            ]
          },
          "metadata": {},
          "execution_count": 31
        }
      ]
    },
    {
      "cell_type": "code",
      "metadata": {
        "id": "5QrI9usgYxS2"
      },
      "source": [
        "vector_a=2+3j\n",
        "vector_b=4+5j"
      ],
      "execution_count": 32,
      "outputs": []
    },
    {
      "cell_type": "code",
      "metadata": {
        "colab": {
          "base_uri": "https://localhost:8080/"
        },
        "id": "TldSrXXSZBU-",
        "outputId": "62010f73-f409-411f-97fe-8dad4db984f3"
      },
      "source": [
        "product=np.dot(vector_a,vector_b)\n",
        "product"
      ],
      "execution_count": 33,
      "outputs": [
        {
          "output_type": "execute_result",
          "data": {
            "text/plain": [
              "(-7+22j)"
            ]
          },
          "metadata": {},
          "execution_count": 33
        }
      ]
    },
    {
      "cell_type": "code",
      "metadata": {
        "colab": {
          "base_uri": "https://localhost:8080/"
        },
        "id": "vRdLkv7sZTod",
        "outputId": "4a7ac435-688f-4aeb-c600-95d3ca6b7c2e"
      },
      "source": [
        "A= np.array([[4, 3,2],[-2, 2,3],[3, -5,2]])\n",
        "B= np.array([25, -10, -4])\n",
        "Z= np.linalg.solve(A,B)\n",
        "Z"
      ],
      "execution_count": 37,
      "outputs": [
        {
          "output_type": "execute_result",
          "data": {
            "text/plain": [
              "array([ 5.,  3., -2.])"
            ]
          },
          "metadata": {},
          "execution_count": 37
        }
      ]
    },
    {
      "cell_type": "code",
      "metadata": {
        "id": "GFs-ShChaA1A"
      },
      "source": [
        ""
      ],
      "execution_count": null,
      "outputs": []
    },
    {
      "cell_type": "code",
      "metadata": {
        "colab": {
          "base_uri": "https://localhost:8080/"
        },
        "id": "Pm4E8nt0aDkU",
        "outputId": "19a73572-ae70-4ec2-887a-f65d8b8e364e"
      },
      "source": [
        "A= np.array([[4, 3,2],[-2, 2,3],[3, -5,2]])\n",
        "B= np.array([25, -10, -4])\n",
        "Z= np.linalg.inv(A).dot(B)\n",
        "Z"
      ],
      "execution_count": 38,
      "outputs": [
        {
          "output_type": "execute_result",
          "data": {
            "text/plain": [
              "array([ 5.,  3., -2.])"
            ]
          },
          "metadata": {},
          "execution_count": 38
        }
      ]
    }
  ]
}