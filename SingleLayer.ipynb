{
  "nbformat": 4,
  "nbformat_minor": 0,
  "metadata": {
    "colab": {
      "name": "SingleLayer.ipynb",
      "provenance": [],
      "authorship_tag": "ABX9TyMYo3V3Cn8z/3A4i97wuwsP",
      "include_colab_link": true
    },
    "kernelspec": {
      "name": "python3",
      "display_name": "Python 3"
    },
    "language_info": {
      "name": "python"
    }
  },
  "cells": [
    {
      "cell_type": "markdown",
      "metadata": {
        "id": "view-in-github",
        "colab_type": "text"
      },
      "source": [
        "<a href=\"https://colab.research.google.com/github/rakib181/heisenberg/blob/main/SingleLayer.ipynb\" target=\"_parent\"><img src=\"https://colab.research.google.com/assets/colab-badge.svg\" alt=\"Open In Colab\"/></a>"
      ]
    },
    {
      "cell_type": "code",
      "execution_count": 2,
      "metadata": {
        "colab": {
          "base_uri": "https://localhost:8080/"
        },
        "id": "DFCLNAUjCOji",
        "outputId": "3fc16327-a5bd-421b-877c-6d213fa137b9"
      },
      "outputs": [
        {
          "output_type": "stream",
          "name": "stdout",
          "text": [
            "epoch =  3 ,and weights w1 = 0.4 ,w2 = 0.30000000000000004\n",
            "Input p1 =  1 , p2 =  0 , and predicted result :  1\n"
          ]
        }
      ],
      "source": [
        "import numpy as np\n",
        "x1 = [0,0,1,1]\n",
        "x2 = [0,1,0,1]\n",
        "yd = [0,1,1,1] \n",
        "errors = [None, None, None, None] \n",
        "w1 = 0.4\n",
        "w2 = 0.1\n",
        "th = 0.2 \n",
        "lr = 0.1\n",
        "def checkForError(listOfErrors): \n",
        "  for element in listOfErrors:\n",
        "    if element is not 0:\n",
        "      return False\n",
        "  return True\n",
        "def step(yp):\n",
        "  return 1 if yp>0 else 0 \n",
        "epoch = 1\n",
        "while True:\n",
        "  for i in range(4): \n",
        "    yp = x1[i] * w1 + x2[i] * w2 - th\n",
        "    yp = step(yp)\n",
        "    errors[i] = yd[i] - yp\n",
        "    w1 += lr * x1[i] * errors[i]\n",
        "    w2 += lr * x2[i] * errors[i]\n",
        "  result = checkForError(errors) \n",
        "  if (result is True):\n",
        "    break;  \n",
        "  epoch+=1\n",
        "print(\"epoch = \",epoch,\",and weights w1 =\", w1,\",w2 =\", w2)\n",
        "p1 = 1\n",
        "p2 = 0\n",
        "yp = p1*w1+p2*w2-th\n",
        "yp = step(yp)\n",
        "print(\"Input p1 = \",p1,\", p2 = \",p2 ,\", and predicted result : \",yp)"
      ]
    }
  ]
}