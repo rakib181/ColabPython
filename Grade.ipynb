{
  "nbformat": 4,
  "nbformat_minor": 0,
  "metadata": {
    "colab": {
      "name": "Grade.ipynb",
      "provenance": [],
      "authorship_tag": "ABX9TyOCEg29BmZYriXLnctg3aG9",
      "include_colab_link": true
    },
    "kernelspec": {
      "name": "python3",
      "display_name": "Python 3"
    },
    "language_info": {
      "name": "python"
    }
  },
  "cells": [
    {
      "cell_type": "markdown",
      "metadata": {
        "id": "view-in-github",
        "colab_type": "text"
      },
      "source": [
        "<a href=\"https://colab.research.google.com/github/rakib181/heisenberg/blob/main/Grade.ipynb\" target=\"_parent\"><img src=\"https://colab.research.google.com/assets/colab-badge.svg\" alt=\"Open In Colab\"/></a>"
      ]
    },
    {
      "cell_type": "code",
      "execution_count": 18,
      "metadata": {
        "colab": {
          "base_uri": "https://localhost:8080/"
        },
        "id": "xNx3c3RW050b",
        "outputId": "2990ead0-c025-46e4-ddcb-a7b07d312332"
      },
      "outputs": [
        {
          "output_type": "stream",
          "name": "stdout",
          "text": [
            "Enter Marks : 30\n",
            "Your Grade is : F\n"
          ]
        }
      ],
      "source": [
        "marks = int(input(\"Enter Marks : \"))\n",
        "if(marks>=71 and marks<=100):\n",
        "    print(\"Your Grade is : A\")\n",
        "elif(marks>=56 and marks >=70):\n",
        "    print(\"Your Grade is : B\")\n",
        "elif(marks>=33 and marks<=55):\n",
        "    print(\"Your Grade is : C\")\n",
        "else:\n",
        "  print(\"Your Grade is : F\")"
      ]
    },
    {
      "cell_type": "code",
      "source": [
        "marks = int(input(\"Enter Marks : \"))\n",
        "if(marks>=63 and marks<=100):\n",
        "    print(\"Your Grade is : A\")\n",
        "elif(marks>=56 and marks >=62):\n",
        "    print(\"Your Grade is : B\")\n",
        "elif(marks>=39 and marks<=55):\n",
        "    print(\"Your Grade is : C\")\n",
        "else:\n",
        "  print(\"Your Grade is : F\")"
      ],
      "metadata": {
        "colab": {
          "base_uri": "https://localhost:8080/"
        },
        "id": "DmoVPtA75kaY",
        "outputId": "e948f689-4d29-41c1-c878-1c6f9f04248b"
      },
      "execution_count": 21,
      "outputs": [
        {
          "output_type": "stream",
          "name": "stdout",
          "text": [
            "Enter Marks : 65\n",
            "Your Grade is : A\n"
          ]
        }
      ]
    }
  ]
}