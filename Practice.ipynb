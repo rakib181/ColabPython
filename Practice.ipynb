{
  "nbformat": 4,
  "nbformat_minor": 0,
  "metadata": {
    "colab": {
      "name": "Practice.ipynb",
      "provenance": [],
      "authorship_tag": "ABX9TyNUR4SHGGbVT0AMrcuQ/E+g",
      "include_colab_link": true
    },
    "kernelspec": {
      "name": "python3",
      "display_name": "Python 3"
    },
    "language_info": {
      "name": "python"
    }
  },
  "cells": [
    {
      "cell_type": "markdown",
      "metadata": {
        "id": "view-in-github",
        "colab_type": "text"
      },
      "source": [
        "<a href=\"https://colab.research.google.com/github/rakib181/heisenberg/blob/main/Practice.ipynb\" target=\"_parent\"><img src=\"https://colab.research.google.com/assets/colab-badge.svg\" alt=\"Open In Colab\"/></a>"
      ]
    },
    {
      "cell_type": "code",
      "metadata": {
        "id": "90xqWsz6vWaQ"
      },
      "source": [
        "import numpy as np"
      ],
      "execution_count": 1,
      "outputs": []
    },
    {
      "cell_type": "code",
      "metadata": {
        "colab": {
          "base_uri": "https://localhost:8080/"
        },
        "id": "W98pF1VCwM01",
        "outputId": "066fe975-38bf-458b-ae27-4fdc0a992147"
      },
      "source": [
        "A1 = np.random.randint(10,30, size=8)\n",
        "A1"
      ],
      "execution_count": 9,
      "outputs": [
        {
          "output_type": "execute_result",
          "data": {
            "text/plain": [
              "array([20, 10, 28, 17, 14, 19, 14, 21])"
            ]
          },
          "metadata": {},
          "execution_count": 9
        }
      ]
    },
    {
      "cell_type": "markdown",
      "metadata": {
        "id": "cemYNNxyviGk"
      },
      "source": [
        "Method chaining - numbers from 0-50"
      ]
    },
    {
      "cell_type": "code",
      "metadata": {
        "colab": {
          "base_uri": "https://localhost:8080/"
        },
        "id": "sONWhEGZwhva",
        "outputId": "52dc4652-3e43-4b82-e8e4-a6a75132cc3d"
      },
      "source": [
        "A2 = np.random.randint(20,200,size=50).reshape(5,10)  \n",
        "A2"
      ],
      "execution_count": 18,
      "outputs": [
        {
          "output_type": "execute_result",
          "data": {
            "text/plain": [
              "array([[ 33, 163,  80, 119, 122,  59, 131,  63,  30, 198],\n",
              "       [176, 179, 194,  25, 161,  93, 148,  83, 163,  91],\n",
              "       [165,  45,  34,  51,  41, 111, 174,  36,  33,  67],\n",
              "       [ 26, 190,  52,  35, 194, 107, 190, 175,  40, 118],\n",
              "       [ 82,  75,  42, 151, 162, 194,  36,  70, 112,  91]])"
            ]
          },
          "metadata": {},
          "execution_count": 18
        }
      ]
    },
    {
      "cell_type": "code",
      "metadata": {
        "colab": {
          "base_uri": "https://localhost:8080/"
        },
        "id": "oLrkOUQ0w3RZ",
        "outputId": "d1b2bc24-06c6-47e4-ddba-e830f613e22a"
      },
      "source": [
        "A1[0]"
      ],
      "execution_count": 10,
      "outputs": [
        {
          "output_type": "execute_result",
          "data": {
            "text/plain": [
              "20"
            ]
          },
          "metadata": {},
          "execution_count": 10
        }
      ]
    },
    {
      "cell_type": "code",
      "metadata": {
        "colab": {
          "base_uri": "https://localhost:8080/"
        },
        "id": "Sq9eEmHDxKJS",
        "outputId": "9ef0e4f5-29cb-4052-d1fc-c9714c96ea82"
      },
      "source": [
        "A1[3]"
      ],
      "execution_count": 11,
      "outputs": [
        {
          "output_type": "execute_result",
          "data": {
            "text/plain": [
              "17"
            ]
          },
          "metadata": {},
          "execution_count": 11
        }
      ]
    },
    {
      "cell_type": "markdown",
      "metadata": {
        "id": "6HZTWafjxdAK"
      },
      "source": [
        "Get the first 3 elements. Gets lower bounds inclusive , upper bounds exclusive"
      ]
    },
    {
      "cell_type": "code",
      "metadata": {
        "colab": {
          "base_uri": "https://localhost:8080/"
        },
        "id": "cxGekQF3xYP8",
        "outputId": "e0562342-1874-45bd-b025-a20f981230b9"
      },
      "source": [
        "arr1[:3] \n"
      ],
      "execution_count": 13,
      "outputs": [
        {
          "output_type": "execute_result",
          "data": {
            "text/plain": [
              "array([11, 17, 20])"
            ]
          },
          "metadata": {},
          "execution_count": 13
        }
      ]
    },
    {
      "cell_type": "markdown",
      "metadata": {
        "id": "IdwoXfi4yCq7"
      },
      "source": [
        "Lower bounds inclusive"
      ]
    },
    {
      "cell_type": "code",
      "metadata": {
        "colab": {
          "base_uri": "https://localhost:8080/"
        },
        "id": "M6ePKhclyF1I",
        "outputId": "949d8fae-814f-41f7-d2c5-7f6ca24a38a2"
      },
      "source": [
        "A1[:2]"
      ],
      "execution_count": 14,
      "outputs": [
        {
          "output_type": "execute_result",
          "data": {
            "text/plain": [
              "array([20, 10])"
            ]
          },
          "metadata": {},
          "execution_count": 14
        }
      ]
    },
    {
      "cell_type": "markdown",
      "metadata": {
        "id": "8P9ArT53ybQ0"
      },
      "source": [
        "Get the elements at index 2,3,4"
      ]
    },
    {
      "cell_type": "code",
      "metadata": {
        "colab": {
          "base_uri": "https://localhost:8080/"
        },
        "id": "bSNYIb7jyh1a",
        "outputId": "1a7e4260-2958-429d-c922-c0dc8148e0e2"
      },
      "source": [
        "A1[2:5]"
      ],
      "execution_count": 15,
      "outputs": [
        {
          "output_type": "execute_result",
          "data": {
            "text/plain": [
              "array([28, 17, 14])"
            ]
          },
          "metadata": {},
          "execution_count": 15
        }
      ]
    },
    {
      "cell_type": "markdown",
      "metadata": {
        "id": "aMoXT1LTyn4r"
      },
      "source": [
        "Show last element"
      ]
    },
    {
      "cell_type": "code",
      "metadata": {
        "colab": {
          "base_uri": "https://localhost:8080/"
        },
        "id": "MLvnvfClysXw",
        "outputId": "feecec22-d3dc-4f44-930b-181bca5a96a1"
      },
      "source": [
        "A1[-1]"
      ],
      "execution_count": 16,
      "outputs": [
        {
          "output_type": "execute_result",
          "data": {
            "text/plain": [
              "21"
            ]
          },
          "metadata": {},
          "execution_count": 16
        }
      ]
    },
    {
      "cell_type": "markdown",
      "metadata": {
        "id": "v9-ooNuzy1XY"
      },
      "source": [
        "Show all elements"
      ]
    },
    {
      "cell_type": "code",
      "metadata": {
        "colab": {
          "base_uri": "https://localhost:8080/"
        },
        "id": "omJIKfwjy35d",
        "outputId": "d8d8410f-aa2e-4373-efbb-bf890ab54e75"
      },
      "source": [
        "A1[:]"
      ],
      "execution_count": 17,
      "outputs": [
        {
          "output_type": "execute_result",
          "data": {
            "text/plain": [
              "array([20, 10, 28, 17, 14, 19, 14, 21])"
            ]
          },
          "metadata": {},
          "execution_count": 17
        }
      ]
    },
    {
      "cell_type": "markdown",
      "metadata": {
        "id": "4HxbkjU_y6oB"
      },
      "source": [
        "Style 1 - you pass in a list of indices"
      ]
    },
    {
      "cell_type": "code",
      "metadata": {
        "colab": {
          "base_uri": "https://localhost:8080/"
        },
        "id": "mbkEQXOyzKTd",
        "outputId": "1bf5781c-f601-4454-cb07-a54885a280d8"
      },
      "source": [
        "A2[0,0]"
      ],
      "execution_count": 19,
      "outputs": [
        {
          "output_type": "execute_result",
          "data": {
            "text/plain": [
              "33"
            ]
          },
          "metadata": {},
          "execution_count": 19
        }
      ]
    },
    {
      "cell_type": "markdown",
      "metadata": {
        "id": "2phTJXCmzYKh"
      },
      "source": [
        "Get a full row"
      ]
    },
    {
      "cell_type": "code",
      "metadata": {
        "colab": {
          "base_uri": "https://localhost:8080/"
        },
        "id": "Z_Jsb808zaYN",
        "outputId": "fe20311f-b3a5-4ea5-a803-eeec1d9559ac"
      },
      "source": [
        "A2[1]"
      ],
      "execution_count": 20,
      "outputs": [
        {
          "output_type": "execute_result",
          "data": {
            "text/plain": [
              "array([176, 179, 194,  25, 161,  93, 148,  83, 163,  91])"
            ]
          },
          "metadata": {},
          "execution_count": 20
        }
      ]
    },
    {
      "cell_type": "markdown",
      "metadata": {
        "id": "S0JxciVlzhZD"
      },
      "source": [
        "Get the second column"
      ]
    },
    {
      "cell_type": "code",
      "metadata": {
        "colab": {
          "base_uri": "https://localhost:8080/"
        },
        "id": "wGw1dN5mzl6J",
        "outputId": "edaecdfe-3761-4dcb-a3ea-f6dbb4184375"
      },
      "source": [
        "A2[:,1]"
      ],
      "execution_count": 21,
      "outputs": [
        {
          "output_type": "execute_result",
          "data": {
            "text/plain": [
              "array([163, 179,  45, 190,  75])"
            ]
          },
          "metadata": {},
          "execution_count": 21
        }
      ]
    },
    {
      "cell_type": "markdown",
      "metadata": {
        "id": "cPwoe2udztCh"
      },
      "source": [
        "Get the third row"
      ]
    },
    {
      "cell_type": "code",
      "metadata": {
        "colab": {
          "base_uri": "https://localhost:8080/"
        },
        "id": "AEqC2vwhzwTR",
        "outputId": "1cd379ec-9b48-4793-8fc9-d6868c78fe84"
      },
      "source": [
        "A2[2,:]"
      ],
      "execution_count": 22,
      "outputs": [
        {
          "output_type": "execute_result",
          "data": {
            "text/plain": [
              "array([165,  45,  34,  51,  41, 111, 174,  36,  33,  67])"
            ]
          },
          "metadata": {},
          "execution_count": 22
        }
      ]
    },
    {
      "cell_type": "markdown",
      "metadata": {
        "id": "7um4ndSuz6dH"
      },
      "source": [
        "Get the center 3,3 elements - columns 4,5,6 and rows 1,2,3"
      ]
    },
    {
      "cell_type": "code",
      "metadata": {
        "colab": {
          "base_uri": "https://localhost:8080/"
        },
        "id": "L_tCU1_Xz-Xm",
        "outputId": "310f3457-f75e-45ed-8ca3-81a3b0621758"
      },
      "source": [
        "A2[1:4,4:7]"
      ],
      "execution_count": 23,
      "outputs": [
        {
          "output_type": "execute_result",
          "data": {
            "text/plain": [
              "array([[161,  93, 148],\n",
              "       [ 41, 111, 174],\n",
              "       [194, 107, 190]])"
            ]
          },
          "metadata": {},
          "execution_count": 23
        }
      ]
    },
    {
      "cell_type": "code",
      "metadata": {
        "colab": {
          "base_uri": "https://localhost:8080/"
        },
        "id": "5gPrTa5C0l3F",
        "outputId": "977c316f-8b49-4f70-e5db-4834495b8fc7"
      },
      "source": [
        "A2_subset=A2[1:4,4:7]\n",
        "A2_subset"
      ],
      "execution_count": 24,
      "outputs": [
        {
          "output_type": "execute_result",
          "data": {
            "text/plain": [
              "array([[161,  93, 148],\n",
              "       [ 41, 111, 174],\n",
              "       [194, 107, 190]])"
            ]
          },
          "metadata": {},
          "execution_count": 24
        }
      ]
    },
    {
      "cell_type": "markdown",
      "metadata": {
        "id": "9S0RwSM01Y-Z"
      },
      "source": [
        "Assign this entire numpy the same values"
      ]
    },
    {
      "cell_type": "code",
      "metadata": {
        "colab": {
          "base_uri": "https://localhost:8080/"
        },
        "id": "8Gxye7Fk0-o-",
        "outputId": "e05eb080-3c33-4ed2-b2a2-3303e0ddd044"
      },
      "source": [
        "A2_subset[:,:]=999\n",
        "A2_subset"
      ],
      "execution_count": 26,
      "outputs": [
        {
          "output_type": "execute_result",
          "data": {
            "text/plain": [
              "array([[999, 999, 999],\n",
              "       [999, 999, 999],\n",
              "       [999, 999, 999]])"
            ]
          },
          "metadata": {},
          "execution_count": 26
        }
      ]
    },
    {
      "cell_type": "code",
      "metadata": {
        "colab": {
          "base_uri": "https://localhost:8080/"
        },
        "id": "r8FcL-3z1bKx",
        "outputId": "ce859c70-2ce9-4a8c-b9f4-2935c6c5331f"
      },
      "source": [
        "A3_subset=A2_subset.copy()\n",
        "A3_subset"
      ],
      "execution_count": 29,
      "outputs": [
        {
          "output_type": "execute_result",
          "data": {
            "text/plain": [
              "array([[999, 999, 999],\n",
              "       [999, 999, 999],\n",
              "       [999, 999, 999]])"
            ]
          },
          "metadata": {},
          "execution_count": 29
        }
      ]
    },
    {
      "cell_type": "markdown",
      "metadata": {
        "id": "f19MKgZd1udw"
      },
      "source": [
        "Notice they are different objects in memory. Thus changing arr3_subset will not affect its source"
      ]
    },
    {
      "cell_type": "code",
      "metadata": {
        "colab": {
          "base_uri": "https://localhost:8080/"
        },
        "id": "ulMDgZ_f1vlN",
        "outputId": "703c52aa-6a28-4058-9023-04194c30840a"
      },
      "source": [
        "A3_subset[:,:] = 0.1\n",
        "A2_subset"
      ],
      "execution_count": 32,
      "outputs": [
        {
          "output_type": "execute_result",
          "data": {
            "text/plain": [
              "array([[999, 999, 999],\n",
              "       [999, 999, 999],\n",
              "       [999, 999, 999]])"
            ]
          },
          "metadata": {},
          "execution_count": 32
        }
      ]
    },
    {
      "cell_type": "code",
      "metadata": {
        "colab": {
          "base_uri": "https://localhost:8080/"
        },
        "id": "GbxDzY-942Lg",
        "outputId": "c10054b4-65f8-4791-e323-39aa275079b0"
      },
      "source": [
        "A1"
      ],
      "execution_count": 33,
      "outputs": [
        {
          "output_type": "execute_result",
          "data": {
            "text/plain": [
              "array([20, 10, 28, 17, 14, 19, 14, 21])"
            ]
          },
          "metadata": {},
          "execution_count": 33
        }
      ]
    },
    {
      "cell_type": "markdown",
      "metadata": {
        "id": "F9BcMQIa47Jy"
      },
      "source": [
        "Gives truth vector"
      ]
    },
    {
      "cell_type": "code",
      "metadata": {
        "colab": {
          "base_uri": "https://localhost:8080/"
        },
        "id": "ro_xvEWz49Ce",
        "outputId": "f555f72b-0b83-4264-b797-71be5c02bd73"
      },
      "source": [
        "A1>15"
      ],
      "execution_count": 34,
      "outputs": [
        {
          "output_type": "execute_result",
          "data": {
            "text/plain": [
              "array([ True, False,  True,  True, False,  True, False,  True])"
            ]
          },
          "metadata": {},
          "execution_count": 34
        }
      ]
    },
    {
      "cell_type": "markdown",
      "metadata": {
        "id": "rDSAI_z85DF1"
      },
      "source": [
        "You can use the Truth vector as an index to search. Get all numbers greater than 15"
      ]
    },
    {
      "cell_type": "code",
      "metadata": {
        "colab": {
          "base_uri": "https://localhost:8080/"
        },
        "id": "6B7xnjB15FOM",
        "outputId": "ee3eedea-0def-4238-bf81-7c36de2acbd8"
      },
      "source": [
        "A1[A1>15]"
      ],
      "execution_count": 35,
      "outputs": [
        {
          "output_type": "execute_result",
          "data": {
            "text/plain": [
              "array([20, 28, 17, 19, 21])"
            ]
          },
          "metadata": {},
          "execution_count": 35
        }
      ]
    },
    {
      "cell_type": "code",
      "metadata": {
        "colab": {
          "base_uri": "https://localhost:8080/"
        },
        "id": "c_XHglwt5PJs",
        "outputId": "5c4aef60-6d71-462b-9770-161b58ddc16f"
      },
      "source": [
        "A1[A1>20]"
      ],
      "execution_count": 36,
      "outputs": [
        {
          "output_type": "execute_result",
          "data": {
            "text/plain": [
              "array([28, 21])"
            ]
          },
          "metadata": {},
          "execution_count": 36
        }
      ]
    },
    {
      "cell_type": "code",
      "metadata": {
        "colab": {
          "base_uri": "https://localhost:8080/"
        },
        "id": "aMRTKy965WeB",
        "outputId": "446b18dd-c853-47ba-d009-7d2d4e5eb604"
      },
      "source": [
        "A1>12"
      ],
      "execution_count": 37,
      "outputs": [
        {
          "output_type": "execute_result",
          "data": {
            "text/plain": [
              "array([ True, False,  True,  True,  True,  True,  True,  True])"
            ]
          },
          "metadata": {},
          "execution_count": 37
        }
      ]
    },
    {
      "cell_type": "code",
      "metadata": {
        "colab": {
          "base_uri": "https://localhost:8080/"
        },
        "id": "qqyV2pKh5bZK",
        "outputId": "dd8871ac-275e-46bc-e847-27b42901c8bb"
      },
      "source": [
        "A2[A2>50]"
      ],
      "execution_count": 38,
      "outputs": [
        {
          "output_type": "execute_result",
          "data": {
            "text/plain": [
              "array([163,  80, 119, 122,  59, 131,  63, 198, 176, 179, 194, 999, 999,\n",
              "       999,  83, 163,  91, 165,  51, 999, 999, 999,  67, 190,  52, 999,\n",
              "       999, 999, 175, 118,  82,  75, 151, 162, 194,  70, 112,  91])"
            ]
          },
          "metadata": {},
          "execution_count": 38
        }
      ]
    },
    {
      "cell_type": "code",
      "metadata": {
        "colab": {
          "base_uri": "https://localhost:8080/"
        },
        "id": "4wdQDHdR5fZl",
        "outputId": "12c1bbb6-43b6-4145-a283-595640fa3ed3"
      },
      "source": [
        "A2[A2<30]"
      ],
      "execution_count": 39,
      "outputs": [
        {
          "output_type": "execute_result",
          "data": {
            "text/plain": [
              "array([25, 26])"
            ]
          },
          "metadata": {},
          "execution_count": 39
        }
      ]
    },
    {
      "cell_type": "markdown",
      "metadata": {
        "id": "_ktNH5Gq5qnN"
      },
      "source": [
        "Compound searching"
      ]
    },
    {
      "cell_type": "code",
      "metadata": {
        "colab": {
          "base_uri": "https://localhost:8080/"
        },
        "id": "YbSfbVRX5rrn",
        "outputId": "034df12c-0926-4014-c837-1de8aa4465a5"
      },
      "source": [
        "A1[(A1>16)&(A1<23)]"
      ],
      "execution_count": 40,
      "outputs": [
        {
          "output_type": "execute_result",
          "data": {
            "text/plain": [
              "array([20, 17, 19, 21])"
            ]
          },
          "metadata": {},
          "execution_count": 40
        }
      ]
    }
  ]
}